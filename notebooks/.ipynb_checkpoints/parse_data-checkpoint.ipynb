{
 "cells": [
  {
   "cell_type": "markdown",
   "metadata": {
    "extensions": {
     "jupyter_dashboards": {
      "version": 1,
      "views": {
       "grid_default": {},
       "report_default": {
        "hidden": false
       }
      }
     }
    }
   },
   "source": [
    "## Hubway Analysis - C4 Evaluation\n",
    "#### Jean CASSOU-MOUNAT\n",
    "Data : http://files.hubwaydatachallenge.org/hubway_2011_07_through_2013_11.zip"
   ]
  },
  {
   "cell_type": "code",
   "execution_count": 1,
   "metadata": {
    "extensions": {
     "jupyter_dashboards": {
      "version": 1,
      "views": {
       "grid_default": {},
       "report_default": {
        "hidden": false
       }
      }
     }
    }
   },
   "outputs": [
    {
     "data": {
      "text/html": [
       "<script type=\"text/javascript\">window.PlotlyConfig = {MathJaxConfig: 'local'};</script><script type=\"text/javascript\">if (window.MathJax) {MathJax.Hub.Config({SVG: {font: \"STIX-Web\"}});}</script><script>requirejs.config({paths: { 'plotly': ['https://cdn.plot.ly/plotly-latest.min']},});if(!window._Plotly) {require(['plotly'],function(plotly) {window._Plotly=plotly;});}</script>"
      ],
      "text/vnd.plotly.v1+html": [
       "<script type=\"text/javascript\">window.PlotlyConfig = {MathJaxConfig: 'local'};</script><script type=\"text/javascript\">if (window.MathJax) {MathJax.Hub.Config({SVG: {font: \"STIX-Web\"}});}</script><script>requirejs.config({paths: { 'plotly': ['https://cdn.plot.ly/plotly-latest.min']},});if(!window._Plotly) {require(['plotly'],function(plotly) {window._Plotly=plotly;});}</script>"
      ]
     },
     "metadata": {},
     "output_type": "display_data"
    }
   ],
   "source": [
    "import pandas as pd\n",
    "from ipyleaflet import Marker, Map, Popup, Polyline, CircleMarker\n",
    "from ipywidgets import HTML\n",
    "import plotly.offline as py\n",
    "import numpy as np\n",
    "from datetime import date\n",
    "import matplotlib.pyplot as plt\n",
    "py.init_notebook_mode(connected=True)"
   ]
  },
  {
   "cell_type": "code",
   "execution_count": 2,
   "metadata": {
    "extensions": {
     "jupyter_dashboards": {
      "version": 1,
      "views": {
       "grid_default": {},
       "report_default": {
        "hidden": false
       }
      }
     }
    }
   },
   "outputs": [],
   "source": [
    "import warnings\n",
    "warnings.filterwarnings('ignore')"
   ]
  },
  {
   "cell_type": "markdown",
   "metadata": {
    "extensions": {
     "jupyter_dashboards": {
      "version": 1,
      "views": {
       "grid_default": {},
       "report_default": {
        "hidden": false
       }
      }
     }
    }
   },
   "source": [
    "## DATA ANALYSIS"
   ]
  },
  {
   "cell_type": "markdown",
   "metadata": {
    "extensions": {
     "jupyter_dashboards": {
      "version": 1,
      "views": {
       "grid_default": {},
       "report_default": {
        "hidden": false
       }
      }
     }
    }
   },
   "source": [
    "### Read Data and create yearly dataframes"
   ]
  },
  {
   "cell_type": "code",
   "execution_count": 3,
   "metadata": {
    "extensions": {
     "jupyter_dashboards": {
      "version": 1,
      "views": {
       "grid_default": {},
       "report_default": {
        "hidden": false
       }
      }
     }
    }
   },
   "outputs": [],
   "source": [
    "hubway_stations = pd.read_csv(\"../data/hubway_stations.csv\")\n",
    "hubway_trips = pd.read_csv(\"../data/hubway_trips.csv\")"
   ]
  },
  {
   "cell_type": "code",
   "execution_count": 4,
   "metadata": {
    "extensions": {
     "jupyter_dashboards": {
      "version": 1,
      "views": {
       "grid_default": {},
       "report_default": {
        "hidden": false
       }
      }
     }
    }
   },
   "outputs": [
    {
     "data": {
      "text/html": [
       "<div>\n",
       "<style scoped>\n",
       "    .dataframe tbody tr th:only-of-type {\n",
       "        vertical-align: middle;\n",
       "    }\n",
       "\n",
       "    .dataframe tbody tr th {\n",
       "        vertical-align: top;\n",
       "    }\n",
       "\n",
       "    .dataframe thead th {\n",
       "        text-align: right;\n",
       "    }\n",
       "</style>\n",
       "<table border=\"1\" class=\"dataframe\">\n",
       "  <thead>\n",
       "    <tr style=\"text-align: right;\">\n",
       "      <th></th>\n",
       "      <th>id</th>\n",
       "      <th>terminal</th>\n",
       "      <th>station</th>\n",
       "      <th>municipal</th>\n",
       "      <th>lat</th>\n",
       "      <th>lng</th>\n",
       "      <th>status</th>\n",
       "    </tr>\n",
       "  </thead>\n",
       "  <tbody>\n",
       "    <tr>\n",
       "      <th>0</th>\n",
       "      <td>3</td>\n",
       "      <td>B32006</td>\n",
       "      <td>Colleges of the Fenway</td>\n",
       "      <td>Boston</td>\n",
       "      <td>42.340021</td>\n",
       "      <td>-71.100812</td>\n",
       "      <td>Existing</td>\n",
       "    </tr>\n",
       "    <tr>\n",
       "      <th>1</th>\n",
       "      <td>4</td>\n",
       "      <td>C32000</td>\n",
       "      <td>Tremont St. at Berkeley St.</td>\n",
       "      <td>Boston</td>\n",
       "      <td>42.345392</td>\n",
       "      <td>-71.069616</td>\n",
       "      <td>Existing</td>\n",
       "    </tr>\n",
       "  </tbody>\n",
       "</table>\n",
       "</div>"
      ],
      "text/plain": [
       "   id terminal                      station municipal        lat        lng  \\\n",
       "0   3   B32006       Colleges of the Fenway    Boston  42.340021 -71.100812   \n",
       "1   4   C32000  Tremont St. at Berkeley St.    Boston  42.345392 -71.069616   \n",
       "\n",
       "     status  \n",
       "0  Existing  \n",
       "1  Existing  "
      ]
     },
     "execution_count": 4,
     "metadata": {},
     "output_type": "execute_result"
    }
   ],
   "source": [
    "hubway_stations.head(2)"
   ]
  },
  {
   "cell_type": "code",
   "execution_count": 6,
   "metadata": {
    "extensions": {
     "jupyter_dashboards": {
      "version": 1,
      "views": {
       "grid_default": {},
       "report_default": {
        "hidden": false
       }
      }
     }
    }
   },
   "outputs": [
    {
     "data": {
      "text/html": [
       "<div>\n",
       "<style scoped>\n",
       "    .dataframe tbody tr th:only-of-type {\n",
       "        vertical-align: middle;\n",
       "    }\n",
       "\n",
       "    .dataframe tbody tr th {\n",
       "        vertical-align: top;\n",
       "    }\n",
       "\n",
       "    .dataframe thead th {\n",
       "        text-align: right;\n",
       "    }\n",
       "</style>\n",
       "<table border=\"1\" class=\"dataframe\">\n",
       "  <thead>\n",
       "    <tr style=\"text-align: right;\">\n",
       "      <th></th>\n",
       "      <th>seq_id</th>\n",
       "      <th>hubway_id</th>\n",
       "      <th>status</th>\n",
       "      <th>duration</th>\n",
       "      <th>start_date</th>\n",
       "      <th>strt_statn</th>\n",
       "      <th>end_date</th>\n",
       "      <th>end_statn</th>\n",
       "      <th>bike_nr</th>\n",
       "      <th>subsc_type</th>\n",
       "      <th>zip_code</th>\n",
       "      <th>birth_date</th>\n",
       "      <th>gender</th>\n",
       "    </tr>\n",
       "  </thead>\n",
       "  <tbody>\n",
       "    <tr>\n",
       "      <th>0</th>\n",
       "      <td>1</td>\n",
       "      <td>8</td>\n",
       "      <td>Closed</td>\n",
       "      <td>9</td>\n",
       "      <td>7/28/2011 10:12:00</td>\n",
       "      <td>23.0</td>\n",
       "      <td>7/28/2011 10:12:00</td>\n",
       "      <td>23.0</td>\n",
       "      <td>B00468</td>\n",
       "      <td>Registered</td>\n",
       "      <td>'97217</td>\n",
       "      <td>1976.0</td>\n",
       "      <td>Male</td>\n",
       "    </tr>\n",
       "    <tr>\n",
       "      <th>1</th>\n",
       "      <td>2</td>\n",
       "      <td>9</td>\n",
       "      <td>Closed</td>\n",
       "      <td>220</td>\n",
       "      <td>7/28/2011 10:21:00</td>\n",
       "      <td>23.0</td>\n",
       "      <td>7/28/2011 10:25:00</td>\n",
       "      <td>23.0</td>\n",
       "      <td>B00554</td>\n",
       "      <td>Registered</td>\n",
       "      <td>'02215</td>\n",
       "      <td>1966.0</td>\n",
       "      <td>Male</td>\n",
       "    </tr>\n",
       "  </tbody>\n",
       "</table>\n",
       "</div>"
      ],
      "text/plain": [
       "   seq_id  hubway_id  status  duration          start_date  strt_statn  \\\n",
       "0       1          8  Closed         9  7/28/2011 10:12:00        23.0   \n",
       "1       2          9  Closed       220  7/28/2011 10:21:00        23.0   \n",
       "\n",
       "             end_date  end_statn bike_nr  subsc_type zip_code  birth_date  \\\n",
       "0  7/28/2011 10:12:00       23.0  B00468  Registered   '97217      1976.0   \n",
       "1  7/28/2011 10:25:00       23.0  B00554  Registered   '02215      1966.0   \n",
       "\n",
       "  gender  \n",
       "0   Male  \n",
       "1   Male  "
      ]
     },
     "execution_count": 6,
     "metadata": {},
     "output_type": "execute_result"
    }
   ],
   "source": [
    "hubway_trips.head(2)"
   ]
  },
  {
   "cell_type": "markdown",
   "metadata": {
    "extensions": {
     "jupyter_dashboards": {
      "version": 1,
      "views": {
       "grid_default": {},
       "report_default": {
        "hidden": false
       }
      }
     }
    }
   },
   "source": [
    "### Read datetime data"
   ]
  },
  {
   "cell_type": "code",
   "execution_count": 7,
   "metadata": {
    "extensions": {
     "jupyter_dashboards": {
      "version": 1,
      "views": {
       "grid_default": {},
       "report_default": {
        "hidden": false
       }
      }
     }
    }
   },
   "outputs": [],
   "source": [
    "trips_df = pd.read_csv('../data/hubway_trips.csv', parse_dates=['start_date'])\n",
    "trips_df.set_index('seq_id', inplace=True)\n",
    "parsed_dates = pd.to_datetime(trips_df['start_date'], format = '%m/%d/%Y %H:%M:%S')\n",
    "parsed_dates = parsed_dates.apply(lambda x: x.replace(minute=0))\n",
    "trips_df.start_date = parsed_dates"
   ]
  },
  {
   "cell_type": "markdown",
   "metadata": {
    "extensions": {
     "jupyter_dashboards": {
      "version": 1,
      "views": {
       "grid_default": {},
       "report_default": {
        "hidden": false
       }
      }
     }
    }
   },
   "source": [
    "### Merge stations and trips in a single dataframe"
   ]
  },
  {
   "cell_type": "code",
   "execution_count": 8,
   "metadata": {
    "extensions": {
     "jupyter_dashboards": {
      "version": 1,
      "views": {
       "grid_default": {},
       "report_default": {
        "hidden": false
       }
      }
     }
    }
   },
   "outputs": [],
   "source": [
    "## Merge trips and stations data\n",
    "\n",
    "hubway_stations_start_merge = hubway_stations[['id', 'terminal', 'station', 'lat', 'lng']]\n",
    "hubway_stations_start_merge = hubway_stations_start_merge.rename(columns={'id': 'strt_statn'})\n",
    "hubway_trips_start = hubway_trips.merge(hubway_stations_start_merge, on='strt_statn', how='left')\n",
    "hubway_trips_start = hubway_trips_start.rename(columns={'terminal': 'strt_terminal', 'station' : 'strt_station',\n",
    "                                                        'lat' : 'strt_lat', 'lng' : 'strt_lng'})\n",
    "\n",
    "hubway_stations_end_merge = hubway_stations[['id', 'terminal', 'station', 'lat', 'lng']]\n",
    "hubway_stations_end_merge = hubway_stations_end_merge.rename(columns={'id': 'end_statn'})\n",
    "hubway_trips_end = hubway_trips_start.merge(hubway_stations_end_merge, on='end_statn', how='left')\n",
    "hubway_trips_end = hubway_trips_end.rename(columns={'terminal': 'end_terminal', 'station' : 'end_station',\n",
    "                                                        'lat' : 'end_lat', 'lng' : 'end_lng'})\n",
    "\n",
    "hubway_trips_merged = hubway_trips_end"
   ]
  },
  {
   "cell_type": "code",
   "execution_count": 9,
   "metadata": {
    "extensions": {
     "jupyter_dashboards": {
      "version": 1,
      "views": {
       "grid_default": {},
       "report_default": {
        "hidden": false
       }
      }
     }
    }
   },
   "outputs": [
    {
     "data": {
      "text/html": [
       "<div>\n",
       "<style scoped>\n",
       "    .dataframe tbody tr th:only-of-type {\n",
       "        vertical-align: middle;\n",
       "    }\n",
       "\n",
       "    .dataframe tbody tr th {\n",
       "        vertical-align: top;\n",
       "    }\n",
       "\n",
       "    .dataframe thead th {\n",
       "        text-align: right;\n",
       "    }\n",
       "</style>\n",
       "<table border=\"1\" class=\"dataframe\">\n",
       "  <thead>\n",
       "    <tr style=\"text-align: right;\">\n",
       "      <th></th>\n",
       "      <th>seq_id</th>\n",
       "      <th>hubway_id</th>\n",
       "      <th>status</th>\n",
       "      <th>duration</th>\n",
       "      <th>start_date</th>\n",
       "      <th>strt_statn</th>\n",
       "      <th>end_date</th>\n",
       "      <th>end_statn</th>\n",
       "      <th>bike_nr</th>\n",
       "      <th>subsc_type</th>\n",
       "      <th>...</th>\n",
       "      <th>birth_date</th>\n",
       "      <th>gender</th>\n",
       "      <th>strt_terminal</th>\n",
       "      <th>strt_station</th>\n",
       "      <th>strt_lat</th>\n",
       "      <th>strt_lng</th>\n",
       "      <th>end_terminal</th>\n",
       "      <th>end_station</th>\n",
       "      <th>end_lat</th>\n",
       "      <th>end_lng</th>\n",
       "    </tr>\n",
       "  </thead>\n",
       "  <tbody>\n",
       "    <tr>\n",
       "      <th>0</th>\n",
       "      <td>1</td>\n",
       "      <td>8</td>\n",
       "      <td>Closed</td>\n",
       "      <td>9</td>\n",
       "      <td>7/28/2011 10:12:00</td>\n",
       "      <td>23.0</td>\n",
       "      <td>7/28/2011 10:12:00</td>\n",
       "      <td>23.0</td>\n",
       "      <td>B00468</td>\n",
       "      <td>Registered</td>\n",
       "      <td>...</td>\n",
       "      <td>1976.0</td>\n",
       "      <td>Male</td>\n",
       "      <td>B32008</td>\n",
       "      <td>Mayor Thomas M. Menino - Government Center</td>\n",
       "      <td>42.359677</td>\n",
       "      <td>-71.059364</td>\n",
       "      <td>B32008</td>\n",
       "      <td>Mayor Thomas M. Menino - Government Center</td>\n",
       "      <td>42.359677</td>\n",
       "      <td>-71.059364</td>\n",
       "    </tr>\n",
       "    <tr>\n",
       "      <th>1</th>\n",
       "      <td>2</td>\n",
       "      <td>9</td>\n",
       "      <td>Closed</td>\n",
       "      <td>220</td>\n",
       "      <td>7/28/2011 10:21:00</td>\n",
       "      <td>23.0</td>\n",
       "      <td>7/28/2011 10:25:00</td>\n",
       "      <td>23.0</td>\n",
       "      <td>B00554</td>\n",
       "      <td>Registered</td>\n",
       "      <td>...</td>\n",
       "      <td>1966.0</td>\n",
       "      <td>Male</td>\n",
       "      <td>B32008</td>\n",
       "      <td>Mayor Thomas M. Menino - Government Center</td>\n",
       "      <td>42.359677</td>\n",
       "      <td>-71.059364</td>\n",
       "      <td>B32008</td>\n",
       "      <td>Mayor Thomas M. Menino - Government Center</td>\n",
       "      <td>42.359677</td>\n",
       "      <td>-71.059364</td>\n",
       "    </tr>\n",
       "  </tbody>\n",
       "</table>\n",
       "<p>2 rows × 21 columns</p>\n",
       "</div>"
      ],
      "text/plain": [
       "   seq_id  hubway_id  status  duration          start_date  strt_statn  \\\n",
       "0       1          8  Closed         9  7/28/2011 10:12:00        23.0   \n",
       "1       2          9  Closed       220  7/28/2011 10:21:00        23.0   \n",
       "\n",
       "             end_date  end_statn bike_nr  subsc_type    ...     birth_date  \\\n",
       "0  7/28/2011 10:12:00       23.0  B00468  Registered    ...         1976.0   \n",
       "1  7/28/2011 10:25:00       23.0  B00554  Registered    ...         1966.0   \n",
       "\n",
       "   gender strt_terminal                                strt_station  \\\n",
       "0    Male        B32008  Mayor Thomas M. Menino - Government Center   \n",
       "1    Male        B32008  Mayor Thomas M. Menino - Government Center   \n",
       "\n",
       "    strt_lat   strt_lng  end_terminal  \\\n",
       "0  42.359677 -71.059364        B32008   \n",
       "1  42.359677 -71.059364        B32008   \n",
       "\n",
       "                                  end_station    end_lat    end_lng  \n",
       "0  Mayor Thomas M. Menino - Government Center  42.359677 -71.059364  \n",
       "1  Mayor Thomas M. Menino - Government Center  42.359677 -71.059364  \n",
       "\n",
       "[2 rows x 21 columns]"
      ]
     },
     "execution_count": 9,
     "metadata": {},
     "output_type": "execute_result"
    }
   ],
   "source": [
    "hubway_trips_merged.head(2)"
   ]
  },
  {
   "cell_type": "markdown",
   "metadata": {
    "extensions": {
     "jupyter_dashboards": {
      "version": 1,
      "views": {
       "grid_default": {},
       "report_default": {
        "hidden": false
       }
      }
     }
    }
   },
   "source": [
    "### Display stations on Map"
   ]
  },
  {
   "cell_type": "code",
   "execution_count": 10,
   "metadata": {
    "extensions": {
     "jupyter_dashboards": {
      "version": 1,
      "views": {
       "grid_default": {},
       "report_default": {
        "hidden": false
       }
      }
     }
    }
   },
   "outputs": [],
   "source": [
    "hubway_stations_latlng = [tuple(x) for x in hubway_stations[['lat', 'lng', 'station', 'id']].values]"
   ]
  },
  {
   "cell_type": "code",
   "execution_count": 11,
   "metadata": {
    "extensions": {
     "jupyter_dashboards": {
      "version": 1,
      "views": {
       "grid_default": {},
       "report_default": {
        "hidden": false
       }
      }
     }
    }
   },
   "outputs": [],
   "source": [
    "group_trips_od_df= trips_df.groupby(['strt_statn', 'end_statn'])['status'].count()\n",
    "group_trips_od_df.index.name = 'start_stn'\n",
    "group_trips_od_df.name = 'trip_counts'\n",
    "list_lines = group_trips_od_df.sort_values(ascending=False).to_dict() # show it on map"
   ]
  },
  {
   "cell_type": "code",
   "execution_count": 12,
   "metadata": {
    "extensions": {
     "jupyter_dashboards": {
      "version": 1,
      "views": {
       "grid_default": {},
       "report_default": {
        "hidden": false
       }
      }
     }
    }
   },
   "outputs": [
    {
     "data": {
      "text/plain": [
       "42.3581"
      ]
     },
     "execution_count": 12,
     "metadata": {},
     "output_type": "execute_result"
    }
   ],
   "source": [
    "dict_stations = hubway_stations.set_index('id').to_dict('index')\n",
    "dict_stations[67.0]['lat']"
   ]
  },
  {
   "cell_type": "code",
   "execution_count": 13,
   "metadata": {
    "extensions": {
     "jupyter_dashboards": {
      "version": 1,
      "views": {
       "grid_default": {},
       "report_default": {
        "hidden": false
       }
      }
     }
    }
   },
   "outputs": [
    {
     "data": {
      "application/vnd.jupyter.widget-view+json": {
       "model_id": "13da5312ddc5469d90b7f8eb1f00cd02",
       "version_major": 2,
       "version_minor": 0
      },
      "text/plain": [
       "Map(basemap={'url': 'https://{s}.tile.openstreetmap.org/{z}/{x}/{y}.png', 'max_zoom': 19, 'attribution': 'Map …"
      ]
     },
     "metadata": {},
     "output_type": "display_data"
    }
   ],
   "source": [
    "m = Map(center=(42.35, -71.1), zoom=13)\n",
    "for station in hubway_stations_latlng :\n",
    "    circle_marker = CircleMarker(stroke = False, fill_opacity = 0.5)\n",
    "    circle_marker.location = station[:-2]\n",
    "    circle_marker.radius = int(1000 * hubway_trips['strt_statn'].value_counts()[station[3]]/hubway_trips['strt_statn'].value_counts().sum())\n",
    "    circle_marker.color = \"red\"\n",
    "    circle_marker.fill_color = \"red\"\n",
    "    m.add_layer(circle_marker);\n",
    "display(m)"
   ]
  },
  {
   "cell_type": "code",
   "execution_count": 22,
   "metadata": {
    "extensions": {
     "jupyter_dashboards": {
      "version": 1,
      "views": {
       "grid_default": {},
       "report_default": {
        "hidden": false
       }
      }
     }
    }
   },
   "outputs": [
    {
     "data": {
      "application/vnd.jupyter.widget-view+json": {
       "model_id": "d59f1881a2c14968ad62a977b76131c2",
       "version_major": 2,
       "version_minor": 0
      },
      "text/plain": [
       "Map(basemap={'url': 'https://{s}.tile.openstreetmap.org/{z}/{x}/{y}.png', 'max_zoom': 19, 'attribution': 'Map …"
      ]
     },
     "metadata": {},
     "output_type": "display_data"
    }
   ],
   "source": [
    "m_line = Map(center=(42.35, -71.1), zoom=13)\n",
    "for station in hubway_stations_latlng :\n",
    "    circle_marker = CircleMarker(stroke = False, fill_opacity = 0.5)\n",
    "    circle_marker.location = station[:-2]\n",
    "    circle_marker.radius = int(1000 * hubway_trips['strt_statn'].value_counts()[station[3]]/hubway_trips['strt_statn'].value_counts().sum())\n",
    "    circle_marker.color = \"red\"\n",
    "    circle_marker.fill_color = \"red\"\n",
    "    m_line.add_layer(circle_marker);\n",
    "display(m_line)"
   ]
  },
  {
   "cell_type": "code",
   "execution_count": 24,
   "metadata": {
    "extensions": {
     "jupyter_dashboards": {
      "version": 1,
      "views": {
       "grid_default": {},
       "report_default": {
        "hidden": true
       }
      }
     }
    }
   },
   "outputs": [],
   "source": [
    "for key, value in list_lines.items():\n",
    "    if value >= 600 : \n",
    "        lat_0 = dict_stations[key[0]]['lat']\n",
    "        lon_0 = dict_stations[key[0]]['lng']\n",
    "        lat_1 = dict_stations[key[1]]['lat']\n",
    "        lon_1 = dict_stations[key[1]]['lng']\n",
    "        line = Polyline(\n",
    "            locations = [[\n",
    "            [[lat_0, lon_0],\n",
    "             [lat_1, lon_1]],]],\n",
    "            color = \"green\",\n",
    "            fill_color = \"green\", \n",
    "            opacity=float(value)/5185,\n",
    "            weight=2)\n",
    "        m_line.add_layer(line)"
   ]
  },
  {
   "cell_type": "markdown",
   "metadata": {
    "extensions": {
     "jupyter_dashboards": {
      "version": 1,
      "views": {
       "grid_default": {},
       "report_default": {
        "hidden": false
       }
      }
     }
    }
   },
   "source": [
    "### Count trips"
   ]
  },
  {
   "cell_type": "markdown",
   "metadata": {
    "extensions": {
     "jupyter_dashboards": {
      "version": 1,
      "views": {
       "grid_default": {},
       "report_default": {
        "hidden": false
       }
      }
     }
    }
   },
   "source": [
    "Count trips on hourly basis"
   ]
  },
  {
   "cell_type": "code",
   "execution_count": 13,
   "metadata": {
    "extensions": {
     "jupyter_dashboards": {
      "version": 1,
      "views": {
       "grid_default": {},
       "report_default": {
        "hidden": false
       }
      }
     }
    }
   },
   "outputs": [
    {
     "data": {
      "text/plain": [
       "date_time\n",
       "2011-07-28 10:00:00     8\n",
       "2011-07-28 11:00:00     4\n",
       "2011-07-28 12:00:00    66\n",
       "Name: trip_counts, dtype: int64"
      ]
     },
     "execution_count": 13,
     "metadata": {},
     "output_type": "execute_result"
    }
   ],
   "source": [
    "group_trips_df= trips_df.groupby('start_date')['status'].count()\n",
    "group_trips_df.index.name = 'date_time'\n",
    "group_trips_df.name = 'trip_counts'\n",
    "group_trips_df.head(3)"
   ]
  },
  {
   "cell_type": "markdown",
   "metadata": {
    "extensions": {
     "jupyter_dashboards": {
      "version": 1,
      "views": {
       "grid_default": {},
       "report_default": {
        "hidden": false
       }
      }
     }
    }
   },
   "source": [
    "Count trips on weekday basis, depending on the station"
   ]
  },
  {
   "cell_type": "code",
   "execution_count": 14,
   "metadata": {
    "extensions": {
     "jupyter_dashboards": {
      "version": 1,
      "views": {
       "grid_default": {},
       "report_default": {
        "hidden": false
       }
      }
     }
    }
   },
   "outputs": [
    {
     "data": {
      "text/plain": [
       "<matplotlib.axes._subplots.AxesSubplot at 0x2328740fe10>"
      ]
     },
     "execution_count": 14,
     "metadata": {},
     "output_type": "execute_result"
    },
    {
     "data": {
      "image/png": "[encoded data removed]",
      "text/plain": [
       "<Figure size 432x288 with 1 Axes>"
      ]
     },
     "metadata": {
      "needs_background": "light"
     },
     "output_type": "display_data"
    }
   ],
   "source": [
    "group_trips_df.loc['2011-07-28':'2011-08-12'].plot()"
   ]
  },
  {
   "cell_type": "code",
   "execution_count": 15,
   "metadata": {
    "extensions": {
     "jupyter_dashboards": {
      "version": 1,
      "views": {
       "grid_default": {},
       "report_default": {
        "hidden": false
       }
      }
     }
    }
   },
   "outputs": [
    {
     "data": {
      "text/plain": [
       "weekday    strt_statn\n",
       "Tuesday    22.0          10295\n",
       "Wednesday  22.0          10193\n",
       "Thursday   22.0           9832\n",
       "Monday     22.0           9796\n",
       "Friday     22.0           9172\n",
       "Saturday   36.0           6968\n",
       "           53.0           6120\n",
       "Friday     36.0           6084\n",
       "Sunday     36.0           6071\n",
       "Tuesday    36.0           6045\n",
       "Wednesday  36.0           5850\n",
       "Monday     36.0           5798\n",
       "Thursday   36.0           5755\n",
       "Sunday     53.0           5639\n",
       "Saturday   42.0           5496\n",
       "           67.0           5453\n",
       "Tuesday    16.0           5405\n",
       "Saturday   58.0           5399\n",
       "Wednesday  16.0           5345\n",
       "Thursday   16.0           5332\n",
       "Name: trip_counts, dtype: int64"
      ]
     },
     "execution_count": 15,
     "metadata": {},
     "output_type": "execute_result"
    }
   ],
   "source": [
    "trips_df_weekdays = trips_df\n",
    "trips_df_weekdays['weekday'] = trips_df_weekdays['start_date'].dt.day_name()\n",
    "group_weekday_df= trips_df.groupby(['weekday', 'strt_statn'])['status'].count()\n",
    "group_weekday_df.index.name = 'week_day'\n",
    "group_weekday_df.name = 'trip_counts'\n",
    "group_weekday_df.sort_values(ascending=False).head(20)"
   ]
  },
  {
   "cell_type": "markdown",
   "metadata": {
    "extensions": {
     "jupyter_dashboards": {
      "version": 1,
      "views": {
       "grid_default": {},
       "report_default": {
        "hidden": false
       }
      }
     }
    }
   },
   "source": [
    "Count trips on O/D Basis"
   ]
  },
  {
   "cell_type": "markdown",
   "metadata": {
    "extensions": {
     "jupyter_dashboards": {
      "version": 1,
      "views": {
       "grid_default": {},
       "report_default": {
        "hidden": false
       }
      }
     }
    }
   },
   "source": [
    "## UNSUPERVISED LEARNING"
   ]
  },
  {
   "cell_type": "code",
   "execution_count": 16,
   "metadata": {
    "extensions": {
     "jupyter_dashboards": {
      "version": 1,
      "views": {
       "grid_default": {},
       "report_default": {
        "hidden": false
       }
      }
     }
    }
   },
   "outputs": [],
   "source": [
    "from sklearn.cluster import KMeans"
   ]
  },
  {
   "cell_type": "markdown",
   "metadata": {
    "extensions": {
     "jupyter_dashboards": {
      "version": 1,
      "views": {
       "grid_default": {},
       "report_default": {
        "hidden": false
       }
      }
     }
    }
   },
   "source": [
    "### Clustering (week days and week-end) based on duration, gender and subscription type"
   ]
  },
  {
   "cell_type": "code",
   "execution_count": 17,
   "metadata": {
    "extensions": {
     "jupyter_dashboards": {
      "version": 1,
      "views": {
       "grid_default": {},
       "report_default": {
        "hidden": false
       }
      }
     }
    }
   },
   "outputs": [
    {
     "name": "stdout",
     "output_type": "stream",
     "text": [
      "kmeans score : 0.5158468041987936\n"
     ]
    }
   ],
   "source": [
    "kmeans = KMeans(n_clusters=2)\n",
    "trips_cluster_df = hubway_trips.set_index('seq_id')\n",
    "trips_cluster_df = trips_cluster_df.drop(['start_date', 'end_date', 'bike_nr', 'zip_code', 'birth_date', 'strt_statn', 'end_statn'], axis=1)\n",
    "trips_cluster_df = pd.get_dummies(trips_cluster_df, columns=['gender', 'status', 'subsc_type'])\n",
    "kmeans.fit(trips_cluster_df)\n",
    "labels = kmeans.labels_\n",
    "kmean_results = pd.DataFrame([labels]).T\n",
    "kmean_results.columns=['kmeans_w']\n",
    "kmean_results.index = range(1,len(kmean_results)+1) #set indexes like seq_id\n",
    "kmean_merge_trips = pd.concat([trips_df, kmean_results], axis=1)\n",
    "kmean_merge_trips = kmean_merge_trips[['start_date', 'kmeans_w']]\n",
    "kmean_merge_trips['day'] = kmean_merge_trips.start_date.apply(date.weekday)\n",
    "kmean_merge_trips['day_bin'] = np.where(kmean_merge_trips['day']<5, 1, 0)\n",
    "kmean_merge_trips['result'] = np.where(kmean_merge_trips['kmeans_w'] == kmean_merge_trips['day_bin'], True, False)\n",
    "print('kmeans score : ' + str(kmean_merge_trips.result.value_counts()[True]/labels.size))"
   ]
  },
  {
   "cell_type": "markdown",
   "metadata": {
    "extensions": {
     "jupyter_dashboards": {
      "version": 1,
      "views": {
       "grid_default": {
        "hidden": true
       },
       "report_default": {
        "hidden": true
       }
      }
     }
    }
   },
   "source": [
    "### Clustering (week days and week-end) based on hourly rent"
   ]
  },
  {
   "cell_type": "code",
   "execution_count": 18,
   "metadata": {
    "extensions": {
     "jupyter_dashboards": {
      "version": 1,
      "views": {
       "grid_default": {},
       "report_default": {
        "hidden": false
       }
      }
     }
    }
   },
   "outputs": [
    {
     "name": "stdout",
     "output_type": "stream",
     "text": [
      "kmeans score : 0.6038877183443213\n"
     ]
    }
   ],
   "source": [
    "kmeans_h = KMeans(n_clusters=2, random_state=24)\n",
    "trips_hourly_kmeans = group_trips_df.to_frame()\n",
    "kmeans_h.fit(trips_hourly_kmeans)\n",
    "labels_h = kmeans_h.labels_\n",
    "kmean_results_h = pd.DataFrame([labels_h]).T\n",
    "kmean_results_h.columns=['kmeans_w']\n",
    "trips_hourly_kmeans_new_index = trips_hourly_kmeans.reset_index()\n",
    "kmean_merge_trips_h = pd.concat([trips_hourly_kmeans_new_index, kmean_results_h], axis=1)\n",
    "kmean_merge_trips_h['day'] = kmean_merge_trips_h.date_time.apply(date.weekday)\n",
    "kmean_merge_trips_h['day_bin'] = np.where(kmean_merge_trips_h['day']<5, 1, 0)\n",
    "kmean_merge_trips_h['result'] = np.where(kmean_merge_trips_h['kmeans_w'] == kmean_merge_trips_h['day_bin'], True, False)\n",
    "print('kmeans score : ' + str(kmean_merge_trips_h.result.value_counts()[True]/labels_h.size))"
   ]
  },
  {
   "cell_type": "code",
   "execution_count": 19,
   "metadata": {
    "extensions": {
     "jupyter_dashboards": {
      "version": 1,
      "views": {
       "grid_default": {},
       "report_default": {
        "hidden": true
       }
      }
     }
    },
    "scrolled": true
   },
   "outputs": [],
   "source": [
    "kmean_merge_trips_h_x = kmean_merge_trips_h.index\n",
    "kmean_merge_trips_h_y_result = kmean_merge_trips_h.kmeans_w\n",
    "kmean_merge_trips_h_y_day_bin = kmean_merge_trips_h.day_bin"
   ]
  },
  {
   "cell_type": "markdown",
   "metadata": {
    "extensions": {
     "jupyter_dashboards": {
      "version": 1,
      "views": {
       "grid_default": {},
       "report_default": {
        "hidden": false
       }
      }
     }
    }
   },
   "source": [
    "### Clustering (OD patterns)"
   ]
  },
  {
   "cell_type": "code",
   "execution_count": 20,
   "metadata": {
    "extensions": {
     "jupyter_dashboards": {
      "version": 1,
      "views": {
       "grid_default": {},
       "report_default": {
        "hidden": true
       }
      }
     }
    }
   },
   "outputs": [],
   "source": [
    "a = trips_df[['strt_statn', 'end_statn']]\n",
    "a['year'] = trips_df['start_date'].dt.year.values\n",
    "a['month'] = trips_df['start_date'].dt.month.values\n",
    "a['day'] = trips_df['start_date'].dt.day.values\n",
    "a['hour'] = trips_df['start_date'].dt.hour.values\n",
    "a = a.dropna()"
   ]
  },
  {
   "cell_type": "code",
   "execution_count": 21,
   "metadata": {
    "extensions": {
     "jupyter_dashboards": {
      "version": 1,
      "views": {
       "grid_default": {},
       "report_default": {
        "hidden": true
       }
      }
     }
    }
   },
   "outputs": [],
   "source": [
    "kmeans = KMeans(n_clusters=7, random_state=0).fit(a)"
   ]
  },
  {
   "cell_type": "code",
   "execution_count": 22,
   "metadata": {
    "extensions": {
     "jupyter_dashboards": {
      "version": 1,
      "views": {
       "grid_default": {},
       "report_default": {
        "hidden": true
       }
      }
     }
    }
   },
   "outputs": [],
   "source": [
    "y_kmeans = kmeans.predict(a)"
   ]
  },
  {
   "cell_type": "code",
   "execution_count": 23,
   "metadata": {
    "extensions": {
     "jupyter_dashboards": {
      "version": 1,
      "views": {
       "grid_default": {},
       "report_default": {
        "hidden": true
       }
      }
     }
    }
   },
   "outputs": [],
   "source": [
    "x_kmeans = a[['strt_statn', 'end_statn']].values"
   ]
  },
  {
   "cell_type": "code",
   "execution_count": 24,
   "metadata": {
    "extensions": {
     "jupyter_dashboards": {
      "version": 1,
      "views": {
       "grid_default": {},
       "report_default": {
        "hidden": false
       }
      }
     }
    }
   },
   "outputs": [
    {
     "data": {
      "text/plain": [
       "<matplotlib.collections.PathCollection at 0x2329839af28>"
      ]
     },
     "execution_count": 24,
     "metadata": {},
     "output_type": "execute_result"
    },
    {
     "data": {
      "image/png": "[encoded data removed]",
      "text/plain": [
       "<Figure size 1080x1080 with 1 Axes>"
      ]
     },
     "metadata": {
      "needs_background": "light"
     },
     "output_type": "display_data"
    }
   ],
   "source": [
    "plt.figure(figsize=(15, 15))\n",
    "plt.scatter(x_kmeans[:, 0], x_kmeans[:, 1], c=y_kmeans)"
   ]
  },
  {
   "cell_type": "code",
   "execution_count": 25,
   "metadata": {
    "extensions": {
     "jupyter_dashboards": {
      "version": 1,
      "views": {
       "grid_default": {},
       "report_default": {
        "hidden": true
       }
      }
     }
    }
   },
   "outputs": [],
   "source": [
    "a['kmeans_results'] = y_kmeans\n",
    "a['date'] = pd.to_datetime(a[['year', 'month', 'day']]).values\n",
    "a['week_day'] = a.date.apply(date.weekday)"
   ]
  },
  {
   "cell_type": "code",
   "execution_count": 26,
   "metadata": {
    "extensions": {
     "jupyter_dashboards": {
      "version": 1,
      "views": {
       "grid_default": {},
       "report_default": {
        "hidden": true
       }
      }
     }
    }
   },
   "outputs": [],
   "source": [
    "list_a = a[['week_day', 'kmeans_results']].values.tolist()\n",
    "list_tuples = [tuple(l) for l in list_a]\n",
    "list_possibilities = set(list_tuples)"
   ]
  },
  {
   "cell_type": "code",
   "execution_count": 27,
   "metadata": {
    "extensions": {
     "jupyter_dashboards": {
      "version": 1,
      "views": {
       "grid_default": {},
       "report_default": {
        "hidden": false
       }
      }
     }
    }
   },
   "outputs": [
    {
     "name": "stdout",
     "output_type": "stream",
     "text": [
      "(1, 3) 47302 occurencies\n",
      "(6, 6) 35280 occurencies\n",
      "(3, 0) 53310 occurencies\n",
      "(5, 6) 39158 occurencies\n",
      "(0, 2) 21354 occurencies\n",
      "(2, 1) 19982 occurencies\n",
      "(6, 2) 15348 occurencies\n",
      "(1, 6) 33219 occurencies\n",
      "(5, 1) 17617 occurencies\n",
      "(0, 3) 47172 occurencies\n",
      "(2, 5) 20687 occurencies\n",
      "(4, 0) 54381 occurencies\n",
      "(1, 2) 21638 occurencies\n",
      "(3, 3) 48374 occurencies\n",
      "(5, 5) 15425 occurencies\n",
      "(4, 4) 37949 occurencies\n",
      "(6, 3) 40187 occurencies\n",
      "(1, 5) 20160 occurencies\n",
      "(5, 0) 52839 occurencies\n",
      "(0, 4) 37574 occurencies\n",
      "(3, 6) 34765 occurencies\n",
      "(2, 2) 22780 occurencies\n",
      "(4, 1) 18564 occurencies\n",
      "(1, 1) 19497 occurencies\n",
      "(6, 4) 28469 occurencies\n",
      "(5, 4) 29985 occurencies\n",
      "(0, 0) 52819 occurencies\n",
      "(2, 6) 34701 occurencies\n",
      "(3, 2) 21521 occurencies\n",
      "(4, 5) 18260 occurencies\n",
      "(5, 2) 17309 occurencies\n",
      "(6, 0) 47683 occurencies\n",
      "(1, 4) 37738 occurencies\n",
      "(2, 3) 48647 occurencies\n",
      "(0, 5) 19151 occurencies\n",
      "(4, 2) 19942 occurencies\n",
      "(1, 0) 52259 occurencies\n",
      "(6, 5) 13119 occurencies\n",
      "(5, 3) 43451 occurencies\n",
      "(3, 5) 19732 occurencies\n",
      "(0, 1) 18868 occurencies\n",
      "(4, 6) 34245 occurencies\n",
      "(6, 1) 15930 occurencies\n",
      "(3, 1) 19807 occurencies\n",
      "(2, 0) 53787 occurencies\n",
      "(0, 6) 33467 occurencies\n",
      "(4, 3) 47992 occurencies\n",
      "(3, 4) 37322 occurencies\n",
      "(2, 4) 38207 occurencies\n"
     ]
    }
   ],
   "source": [
    "for i in list_possibilities :\n",
    "    print(str(i) + \" \" + str(list_tuples.count(i)) + \" occurencies\")"
   ]
  },
  {
   "cell_type": "code",
   "execution_count": 28,
   "metadata": {
    "extensions": {
     "jupyter_dashboards": {
      "version": 1,
      "views": {
       "grid_default": {},
       "report_default": {
        "hidden": false
       }
      }
     }
    }
   },
   "outputs": [
    {
     "data": {
      "text/plain": [
       "start_date           strt_statn  end_statn\n",
       "2011-07-28 10:00:00  23.0        23.0         8\n",
       "2011-07-28 11:00:00  23.0        23.0         1\n",
       "                     47.0        40.0         3\n",
       "2011-07-28 12:00:00  3.0         3.0          1\n",
       "                     5.0         23.0         1\n",
       "                     10.0        41.0         1\n",
       "                     16.0        16.0         1\n",
       "                                 22.0         1\n",
       "                     20.0        43.0         3\n",
       "                     22.0        14.0         1\n",
       "                                 20.0         2\n",
       "                                 22.0         8\n",
       "                                 25.0         1\n",
       "                                 31.0         2\n",
       "                                 36.0         2\n",
       "                                 38.0         1\n",
       "                                 40.0         1\n",
       "                                 42.0         1\n",
       "                                 44.0         1\n",
       "                                 45.0         1\n",
       "                                 48.0         1\n",
       "                                 49.0         2\n",
       "                     23.0        23.0         1\n",
       "                                 38.0         1\n",
       "                     25.0        39.0         1\n",
       "                     34.0        36.0         1\n",
       "                     36.0        23.0         1\n",
       "                                 34.0         1\n",
       "                                 36.0         1\n",
       "                                 38.0         1\n",
       "                                             ..\n",
       "2013-11-30 20:00:00  76.0        80.0         1\n",
       "                                 91.0         1\n",
       "                     80.0        135.0        1\n",
       "                     87.0        96.0         1\n",
       "                     88.0        67.0         1\n",
       "                     130.0       88.0         1\n",
       "                     133.0       74.0         1\n",
       "                     136.0       67.0         2\n",
       "                     137.0       80.0         1\n",
       "2013-11-30 21:00:00  67.0        68.0         1\n",
       "                     68.0        74.0         1\n",
       "                     72.0        91.0         1\n",
       "                     76.0        68.0         1\n",
       "                     84.0        128.0        1\n",
       "                     96.0        76.0         1\n",
       "                     129.0       91.0         1\n",
       "                     137.0       133.0        1\n",
       "2013-11-30 22:00:00  67.0        68.0         1\n",
       "                     74.0        87.0         1\n",
       "                     130.0       68.0         1\n",
       "                     137.0       74.0         2\n",
       "2013-11-30 23:00:00  67.0        88.0         1\n",
       "                     68.0        95.0         1\n",
       "                     76.0        68.0         1\n",
       "                                 96.0         1\n",
       "                     128.0       136.0        1\n",
       "                     129.0       133.0        1\n",
       "                     130.0       90.0         1\n",
       "                     134.0       139.0        1\n",
       "                     137.0       133.0        1\n",
       "Name: status, Length: 1290468, dtype: int64"
      ]
     },
     "execution_count": 28,
     "metadata": {},
     "output_type": "execute_result"
    }
   ],
   "source": [
    "trips_df.groupby(['start_date', 'strt_statn', 'end_statn'])['status'].count()"
   ]
  },
  {
   "cell_type": "markdown",
   "metadata": {
    "extensions": {
     "jupyter_dashboards": {
      "version": 1,
      "views": {
       "grid_default": {},
       "report_default": {
        "hidden": false
       }
      }
     }
    }
   },
   "source": [
    "## SUPERVISED LEARNING - HOURLY DATA (from 2012-10-01 13:00:00 to 2013-11-30 23:00:00)"
   ]
  },
  {
   "cell_type": "markdown",
   "metadata": {
    "extensions": {
     "jupyter_dashboards": {
      "version": 1,
      "views": {
       "grid_default": {},
       "report_default": {
        "hidden": false
       }
      }
     }
    }
   },
   "source": [
    "### Hourly Trend"
   ]
  },
  {
   "cell_type": "code",
   "execution_count": 29,
   "metadata": {
    "extensions": {
     "jupyter_dashboards": {
      "version": 1,
      "views": {
       "grid_default": {},
       "report_default": {
        "hidden": true
       }
      }
     }
    }
   },
   "outputs": [],
   "source": [
    "import seaborn as sns"
   ]
  },
  {
   "cell_type": "code",
   "execution_count": 30,
   "metadata": {
    "extensions": {
     "jupyter_dashboards": {
      "version": 1,
      "views": {
       "grid_default": {},
       "report_default": {
        "hidden": true
       }
      }
     }
    }
   },
   "outputs": [],
   "source": [
    "df_hourly_rent = group_trips_df.to_frame()\n",
    "hour = pd.to_datetime(df_hourly_rent.index).hour\n",
    "df_hourly_rent['hour'] = hour"
   ]
  },
  {
   "cell_type": "code",
   "execution_count": 31,
   "metadata": {
    "extensions": {
     "jupyter_dashboards": {
      "version": 1,
      "views": {
       "grid_default": {},
       "report_default": {
        "hidden": false
       }
      }
     }
    }
   },
   "outputs": [
    {
     "data": {
      "image/png": "[encoded data removed]",
      "text/plain": [
       "<Figure size 1152x360 with 1 Axes>"
      ]
     },
     "metadata": {
      "needs_background": "light"
     },
     "output_type": "display_data"
    }
   ],
   "source": [
    "fig, axes = plt.subplots()\n",
    "fig.set_size_inches(16, 5)\n",
    "\n",
    "sns.boxplot(data=df_hourly_rent,y=\"trip_counts\",x=\"hour\",orient=\"v\",ax=axes)\n",
    "\n",
    "axes.set(xlabel='Hour', ylabel='Count',title=\"Bike Rental Across Hour for All User\")\n",
    "\n",
    "plt.show()"
   ]
  },
  {
   "cell_type": "code",
   "execution_count": 32,
   "metadata": {
    "extensions": {
     "jupyter_dashboards": {
      "version": 1,
      "views": {
       "grid_default": {},
       "report_default": {
        "hidden": true
       }
      }
     }
    }
   },
   "outputs": [],
   "source": [
    "# Casual\n",
    "group_trips_casual = trips_df.groupby(['subsc_type', 'start_date'])['status'].count()['Casual']\n",
    "group_trips_casual.index.name = 'date_time'\n",
    "group_trips_casual.name = 'trip_counts'\n",
    "df_hourly_rent_casual = group_trips_casual.to_frame()\n",
    "hour_casual = pd.to_datetime(df_hourly_rent_casual.index).hour\n",
    "df_hourly_rent_casual['hour'] = hour_casual\n",
    "\n",
    "# Registered\n",
    "group_trips_registered = trips_df.groupby(['subsc_type', 'start_date'])['status'].count()['Registered']\n",
    "group_trips_registered.index.name = 'date_time'\n",
    "group_trips_registered.name = 'trip_counts'\n",
    "df_hourly_rent_registered = group_trips_registered.to_frame()\n",
    "hour_registered = pd.to_datetime(df_hourly_rent_registered.index).hour\n",
    "df_hourly_rent_registered['hour'] = hour_registered"
   ]
  },
  {
   "cell_type": "code",
   "execution_count": 33,
   "metadata": {
    "extensions": {
     "jupyter_dashboards": {
      "version": 1,
      "views": {
       "grid_default": {},
       "report_default": {
        "hidden": false
       }
      }
     }
    }
   },
   "outputs": [
    {
     "data": {
      "image/png": "[encoded data removed]",
      "text/plain": [
       "<Figure size 1152x360 with 1 Axes>"
      ]
     },
     "metadata": {
      "needs_background": "light"
     },
     "output_type": "display_data"
    }
   ],
   "source": [
    "fig, axes = plt.subplots()\n",
    "fig.set_size_inches(16, 5)\n",
    "\n",
    "sns.boxplot(data=df_hourly_rent_casual,y=\"trip_counts\",x=\"hour\",orient=\"v\",ax=axes)\n",
    "\n",
    "axes.set(xlabel='Hour', ylabel='Count',title=\"Bike Rental Across Hour for Casual User\")\n",
    "\n",
    "plt.show()"
   ]
  },
  {
   "cell_type": "code",
   "execution_count": 34,
   "metadata": {
    "extensions": {
     "jupyter_dashboards": {
      "version": 1,
      "views": {
       "grid_default": {},
       "report_default": {
        "hidden": false
       }
      }
     }
    }
   },
   "outputs": [
    {
     "data": {
      "image/png": "[encoded data removed]",
      "text/plain": [
       "<Figure size 1152x360 with 1 Axes>"
      ]
     },
     "metadata": {
      "needs_background": "light"
     },
     "output_type": "display_data"
    }
   ],
   "source": [
    "fig, axes = plt.subplots()\n",
    "fig.set_size_inches(16, 5)\n",
    "\n",
    "sns.boxplot(data=df_hourly_rent_registered,y=\"trip_counts\",x=\"hour\",orient=\"v\",ax=axes)\n",
    "\n",
    "axes.set(xlabel='Hour', ylabel='Count',title=\"Bike Rental Across Hour for Registered User\")\n",
    "\n",
    "plt.show()"
   ]
  },
  {
   "cell_type": "markdown",
   "metadata": {
    "extensions": {
     "jupyter_dashboards": {
      "version": 1,
      "views": {
       "grid_default": {},
       "report_default": {
        "hidden": false
       }
      }
     }
    }
   },
   "source": [
    "### Load hourly weather data"
   ]
  },
  {
   "cell_type": "code",
   "execution_count": 35,
   "metadata": {
    "extensions": {
     "jupyter_dashboards": {
      "version": 1,
      "views": {
       "grid_default": {},
       "report_default": {
        "hidden": true
       }
      }
     }
    }
   },
   "outputs": [],
   "source": [
    "hourly_temperature = pd.read_csv('../data/hourly_data/temperature.csv', usecols = ['datetime', 'Boston'])\n",
    "hourly_temperature = hourly_temperature.set_index('datetime')\n",
    "hourly_temperature.columns = ['temperature']\n",
    "hourly_humidity = pd.read_csv('../data/hourly_data/humidity.csv', usecols = ['datetime', 'Boston'])\n",
    "hourly_humidity = hourly_humidity.set_index('datetime')\n",
    "hourly_humidity.columns = ['humidity']\n",
    "hourly_pressure = pd.read_csv('../data/hourly_data/pressure.csv', usecols = ['datetime', 'Boston'])\n",
    "hourly_pressure = hourly_pressure.set_index('datetime')\n",
    "hourly_pressure.columns = ['pressure']\n",
    "hourly_wind_speed = pd.read_csv('../data/hourly_data/wind_speed.csv', usecols = ['datetime', 'Boston'])\n",
    "hourly_wind_speed = hourly_wind_speed.set_index('datetime')\n",
    "hourly_wind_speed.columns = ['wind_speed']\n",
    "hourly_wind_direction = pd.read_csv('../data/hourly_data/wind_direction.csv', usecols = ['datetime', 'Boston'])\n",
    "hourly_wind_direction = hourly_wind_direction.set_index('datetime')\n",
    "hourly_wind_direction.columns = ['wind_direction']\n",
    "hourly_weather_description = pd.read_csv('../data/hourly_data/weather_description.csv', usecols = ['datetime', 'Boston'])\n",
    "hourly_weather_description = hourly_weather_description.set_index('datetime')\n",
    "hourly_weather_description.columns = ['weather_description']"
   ]
  },
  {
   "cell_type": "code",
   "execution_count": 36,
   "metadata": {
    "extensions": {
     "jupyter_dashboards": {
      "version": 1,
      "views": {
       "grid_default": {},
       "report_default": {
        "hidden": true
       }
      }
     }
    }
   },
   "outputs": [],
   "source": [
    "hourly_weather_data = pd.concat([hourly_humidity, hourly_temperature, hourly_pressure, hourly_wind_speed, hourly_wind_direction, hourly_weather_description], axis=1)\n",
    "hourly_weather_data = hourly_weather_data['2012-10-01 13:00:00' : '2013-11-30 23:00:00']\n",
    "hourly_weather_data = pd.get_dummies(hourly_weather_data, columns=['weather_description'])"
   ]
  },
  {
   "cell_type": "code",
   "execution_count": 37,
   "metadata": {
    "extensions": {
     "jupyter_dashboards": {
      "version": 1,
      "views": {
       "grid_default": {},
       "report_default": {
        "hidden": true
       }
      }
     }
    }
   },
   "outputs": [],
   "source": [
    "hourly_trips = group_trips_df.to_frame()['2012-10-01 13:00:00' : '2013-11-30 23:00:00']"
   ]
  },
  {
   "cell_type": "code",
   "execution_count": 38,
   "metadata": {
    "extensions": {
     "jupyter_dashboards": {
      "version": 1,
      "views": {
       "grid_default": {},
       "report_default": {
        "hidden": true
       }
      }
     }
    }
   },
   "outputs": [],
   "source": [
    "hourly_weather_trips_data = pd.concat([hourly_trips, hourly_weather_data], axis=1)\n",
    "hourly_weather_trips_data = hourly_weather_trips_data.dropna()"
   ]
  },
  {
   "cell_type": "code",
   "execution_count": 39,
   "metadata": {
    "extensions": {
     "jupyter_dashboards": {
      "version": 1,
      "views": {
       "grid_default": {},
       "report_default": {
        "hidden": false
       }
      }
     }
    }
   },
   "outputs": [
    {
     "data": {
      "text/html": [
       "<div>\n",
       "<style scoped>\n",
       "    .dataframe tbody tr th:only-of-type {\n",
       "        vertical-align: middle;\n",
       "    }\n",
       "\n",
       "    .dataframe tbody tr th {\n",
       "        vertical-align: top;\n",
       "    }\n",
       "\n",
       "    .dataframe thead th {\n",
       "        text-align: right;\n",
       "    }\n",
       "</style>\n",
       "<table border=\"1\" class=\"dataframe\">\n",
       "  <thead>\n",
       "    <tr style=\"text-align: right;\">\n",
       "      <th></th>\n",
       "      <th>trip_counts</th>\n",
       "      <th>humidity</th>\n",
       "      <th>temperature</th>\n",
       "      <th>pressure</th>\n",
       "      <th>wind_speed</th>\n",
       "      <th>wind_direction</th>\n",
       "      <th>weather_description_broken clouds</th>\n",
       "      <th>weather_description_drizzle</th>\n",
       "      <th>weather_description_few clouds</th>\n",
       "      <th>weather_description_fog</th>\n",
       "      <th>...</th>\n",
       "      <th>weather_description_moderate rain</th>\n",
       "      <th>weather_description_overcast clouds</th>\n",
       "      <th>weather_description_proximity thunderstorm</th>\n",
       "      <th>weather_description_scattered clouds</th>\n",
       "      <th>weather_description_sky is clear</th>\n",
       "      <th>weather_description_snow</th>\n",
       "      <th>weather_description_squalls</th>\n",
       "      <th>weather_description_thunderstorm</th>\n",
       "      <th>weather_description_thunderstorm with light rain</th>\n",
       "      <th>weather_description_thunderstorm with rain</th>\n",
       "    </tr>\n",
       "  </thead>\n",
       "  <tbody>\n",
       "    <tr>\n",
       "      <th>2012-10-01 13:00:00</th>\n",
       "      <td>133.0</td>\n",
       "      <td>68.0</td>\n",
       "      <td>287.170000</td>\n",
       "      <td>1014.0</td>\n",
       "      <td>3.0</td>\n",
       "      <td>60.0</td>\n",
       "      <td>0</td>\n",
       "      <td>0</td>\n",
       "      <td>0</td>\n",
       "      <td>0</td>\n",
       "      <td>...</td>\n",
       "      <td>0</td>\n",
       "      <td>0</td>\n",
       "      <td>0</td>\n",
       "      <td>0</td>\n",
       "      <td>1</td>\n",
       "      <td>0</td>\n",
       "      <td>0</td>\n",
       "      <td>0</td>\n",
       "      <td>0</td>\n",
       "      <td>0</td>\n",
       "    </tr>\n",
       "    <tr>\n",
       "      <th>2012-10-01 14:00:00</th>\n",
       "      <td>149.0</td>\n",
       "      <td>68.0</td>\n",
       "      <td>287.186092</td>\n",
       "      <td>1014.0</td>\n",
       "      <td>3.0</td>\n",
       "      <td>60.0</td>\n",
       "      <td>0</td>\n",
       "      <td>0</td>\n",
       "      <td>1</td>\n",
       "      <td>0</td>\n",
       "      <td>...</td>\n",
       "      <td>0</td>\n",
       "      <td>0</td>\n",
       "      <td>0</td>\n",
       "      <td>0</td>\n",
       "      <td>0</td>\n",
       "      <td>0</td>\n",
       "      <td>0</td>\n",
       "      <td>0</td>\n",
       "      <td>0</td>\n",
       "      <td>0</td>\n",
       "    </tr>\n",
       "    <tr>\n",
       "      <th>2012-10-01 15:00:00</th>\n",
       "      <td>136.0</td>\n",
       "      <td>68.0</td>\n",
       "      <td>287.231672</td>\n",
       "      <td>1014.0</td>\n",
       "      <td>3.0</td>\n",
       "      <td>60.0</td>\n",
       "      <td>0</td>\n",
       "      <td>0</td>\n",
       "      <td>1</td>\n",
       "      <td>0</td>\n",
       "      <td>...</td>\n",
       "      <td>0</td>\n",
       "      <td>0</td>\n",
       "      <td>0</td>\n",
       "      <td>0</td>\n",
       "      <td>0</td>\n",
       "      <td>0</td>\n",
       "      <td>0</td>\n",
       "      <td>0</td>\n",
       "      <td>0</td>\n",
       "      <td>0</td>\n",
       "    </tr>\n",
       "    <tr>\n",
       "      <th>2012-10-01 16:00:00</th>\n",
       "      <td>247.0</td>\n",
       "      <td>68.0</td>\n",
       "      <td>287.277251</td>\n",
       "      <td>1014.0</td>\n",
       "      <td>3.0</td>\n",
       "      <td>60.0</td>\n",
       "      <td>0</td>\n",
       "      <td>0</td>\n",
       "      <td>1</td>\n",
       "      <td>0</td>\n",
       "      <td>...</td>\n",
       "      <td>0</td>\n",
       "      <td>0</td>\n",
       "      <td>0</td>\n",
       "      <td>0</td>\n",
       "      <td>0</td>\n",
       "      <td>0</td>\n",
       "      <td>0</td>\n",
       "      <td>0</td>\n",
       "      <td>0</td>\n",
       "      <td>0</td>\n",
       "    </tr>\n",
       "    <tr>\n",
       "      <th>2012-10-01 17:00:00</th>\n",
       "      <td>428.0</td>\n",
       "      <td>68.0</td>\n",
       "      <td>287.322831</td>\n",
       "      <td>1014.0</td>\n",
       "      <td>3.0</td>\n",
       "      <td>61.0</td>\n",
       "      <td>0</td>\n",
       "      <td>0</td>\n",
       "      <td>1</td>\n",
       "      <td>0</td>\n",
       "      <td>...</td>\n",
       "      <td>0</td>\n",
       "      <td>0</td>\n",
       "      <td>0</td>\n",
       "      <td>0</td>\n",
       "      <td>0</td>\n",
       "      <td>0</td>\n",
       "      <td>0</td>\n",
       "      <td>0</td>\n",
       "      <td>0</td>\n",
       "      <td>0</td>\n",
       "    </tr>\n",
       "  </tbody>\n",
       "</table>\n",
       "<p>5 rows × 29 columns</p>\n",
       "</div>"
      ],
      "text/plain": [
       "                     trip_counts  humidity  temperature  pressure  wind_speed  \\\n",
       "2012-10-01 13:00:00        133.0      68.0   287.170000    1014.0         3.0   \n",
       "2012-10-01 14:00:00        149.0      68.0   287.186092    1014.0         3.0   \n",
       "2012-10-01 15:00:00        136.0      68.0   287.231672    1014.0         3.0   \n",
       "2012-10-01 16:00:00        247.0      68.0   287.277251    1014.0         3.0   \n",
       "2012-10-01 17:00:00        428.0      68.0   287.322831    1014.0         3.0   \n",
       "\n",
       "                     wind_direction  weather_description_broken clouds  \\\n",
       "2012-10-01 13:00:00            60.0                                  0   \n",
       "2012-10-01 14:00:00            60.0                                  0   \n",
       "2012-10-01 15:00:00            60.0                                  0   \n",
       "2012-10-01 16:00:00            60.0                                  0   \n",
       "2012-10-01 17:00:00            61.0                                  0   \n",
       "\n",
       "                     weather_description_drizzle  \\\n",
       "2012-10-01 13:00:00                            0   \n",
       "2012-10-01 14:00:00                            0   \n",
       "2012-10-01 15:00:00                            0   \n",
       "2012-10-01 16:00:00                            0   \n",
       "2012-10-01 17:00:00                            0   \n",
       "\n",
       "                     weather_description_few clouds  weather_description_fog  \\\n",
       "2012-10-01 13:00:00                               0                        0   \n",
       "2012-10-01 14:00:00                               1                        0   \n",
       "2012-10-01 15:00:00                               1                        0   \n",
       "2012-10-01 16:00:00                               1                        0   \n",
       "2012-10-01 17:00:00                               1                        0   \n",
       "\n",
       "                                        ...                      \\\n",
       "2012-10-01 13:00:00                     ...                       \n",
       "2012-10-01 14:00:00                     ...                       \n",
       "2012-10-01 15:00:00                     ...                       \n",
       "2012-10-01 16:00:00                     ...                       \n",
       "2012-10-01 17:00:00                     ...                       \n",
       "\n",
       "                     weather_description_moderate rain  \\\n",
       "2012-10-01 13:00:00                                  0   \n",
       "2012-10-01 14:00:00                                  0   \n",
       "2012-10-01 15:00:00                                  0   \n",
       "2012-10-01 16:00:00                                  0   \n",
       "2012-10-01 17:00:00                                  0   \n",
       "\n",
       "                     weather_description_overcast clouds  \\\n",
       "2012-10-01 13:00:00                                    0   \n",
       "2012-10-01 14:00:00                                    0   \n",
       "2012-10-01 15:00:00                                    0   \n",
       "2012-10-01 16:00:00                                    0   \n",
       "2012-10-01 17:00:00                                    0   \n",
       "\n",
       "                     weather_description_proximity thunderstorm  \\\n",
       "2012-10-01 13:00:00                                           0   \n",
       "2012-10-01 14:00:00                                           0   \n",
       "2012-10-01 15:00:00                                           0   \n",
       "2012-10-01 16:00:00                                           0   \n",
       "2012-10-01 17:00:00                                           0   \n",
       "\n",
       "                     weather_description_scattered clouds  \\\n",
       "2012-10-01 13:00:00                                     0   \n",
       "2012-10-01 14:00:00                                     0   \n",
       "2012-10-01 15:00:00                                     0   \n",
       "2012-10-01 16:00:00                                     0   \n",
       "2012-10-01 17:00:00                                     0   \n",
       "\n",
       "                     weather_description_sky is clear  \\\n",
       "2012-10-01 13:00:00                                 1   \n",
       "2012-10-01 14:00:00                                 0   \n",
       "2012-10-01 15:00:00                                 0   \n",
       "2012-10-01 16:00:00                                 0   \n",
       "2012-10-01 17:00:00                                 0   \n",
       "\n",
       "                     weather_description_snow  weather_description_squalls  \\\n",
       "2012-10-01 13:00:00                         0                            0   \n",
       "2012-10-01 14:00:00                         0                            0   \n",
       "2012-10-01 15:00:00                         0                            0   \n",
       "2012-10-01 16:00:00                         0                            0   \n",
       "2012-10-01 17:00:00                         0                            0   \n",
       "\n",
       "                     weather_description_thunderstorm  \\\n",
       "2012-10-01 13:00:00                                 0   \n",
       "2012-10-01 14:00:00                                 0   \n",
       "2012-10-01 15:00:00                                 0   \n",
       "2012-10-01 16:00:00                                 0   \n",
       "2012-10-01 17:00:00                                 0   \n",
       "\n",
       "                     weather_description_thunderstorm with light rain  \\\n",
       "2012-10-01 13:00:00                                                 0   \n",
       "2012-10-01 14:00:00                                                 0   \n",
       "2012-10-01 15:00:00                                                 0   \n",
       "2012-10-01 16:00:00                                                 0   \n",
       "2012-10-01 17:00:00                                                 0   \n",
       "\n",
       "                     weather_description_thunderstorm with rain  \n",
       "2012-10-01 13:00:00                                           0  \n",
       "2012-10-01 14:00:00                                           0  \n",
       "2012-10-01 15:00:00                                           0  \n",
       "2012-10-01 16:00:00                                           0  \n",
       "2012-10-01 17:00:00                                           0  \n",
       "\n",
       "[5 rows x 29 columns]"
      ]
     },
     "execution_count": 39,
     "metadata": {},
     "output_type": "execute_result"
    }
   ],
   "source": [
    "hourly_weather_trips_data.head()"
   ]
  },
  {
   "cell_type": "code",
   "execution_count": 40,
   "metadata": {
    "extensions": {
     "jupyter_dashboards": {
      "version": 1,
      "views": {
       "grid_default": {},
       "report_default": {
        "hidden": true
       }
      }
     }
    }
   },
   "outputs": [],
   "source": [
    "from pandas.tseries.holiday import USFederalHolidayCalendar\n",
    "cal = USFederalHolidayCalendar()\n",
    "holidays = cal.holidays(start=hourly_weather_trips_data.index.min(), end=hourly_weather_trips_data.index.max()).to_pydatetime()\n",
    "\n",
    "hourly_weather_trips_holi_data = hourly_weather_trips_data.copy()\n",
    "#Add holiday to db\n",
    "hourly_weather_trips_holi_data['holiday'] = hourly_weather_trips_data.index.isin(holidays).astype(int)"
   ]
  },
  {
   "cell_type": "code",
   "execution_count": 41,
   "metadata": {
    "extensions": {
     "jupyter_dashboards": {
      "version": 1,
      "views": {
       "grid_default": {},
       "report_default": {
        "hidden": false
       }
      }
     }
    }
   },
   "outputs": [
    {
     "data": {
      "text/html": [
       "<div>\n",
       "<style scoped>\n",
       "    .dataframe tbody tr th:only-of-type {\n",
       "        vertical-align: middle;\n",
       "    }\n",
       "\n",
       "    .dataframe tbody tr th {\n",
       "        vertical-align: top;\n",
       "    }\n",
       "\n",
       "    .dataframe thead th {\n",
       "        text-align: right;\n",
       "    }\n",
       "</style>\n",
       "<table border=\"1\" class=\"dataframe\">\n",
       "  <thead>\n",
       "    <tr style=\"text-align: right;\">\n",
       "      <th></th>\n",
       "      <th>trip_counts</th>\n",
       "      <th>humidity</th>\n",
       "      <th>temperature</th>\n",
       "      <th>pressure</th>\n",
       "      <th>wind_speed</th>\n",
       "      <th>wind_direction</th>\n",
       "      <th>weather_description_broken clouds</th>\n",
       "      <th>weather_description_drizzle</th>\n",
       "      <th>weather_description_few clouds</th>\n",
       "      <th>weather_description_fog</th>\n",
       "      <th>...</th>\n",
       "      <th>weather_description_overcast clouds</th>\n",
       "      <th>weather_description_proximity thunderstorm</th>\n",
       "      <th>weather_description_scattered clouds</th>\n",
       "      <th>weather_description_sky is clear</th>\n",
       "      <th>weather_description_snow</th>\n",
       "      <th>weather_description_squalls</th>\n",
       "      <th>weather_description_thunderstorm</th>\n",
       "      <th>weather_description_thunderstorm with light rain</th>\n",
       "      <th>weather_description_thunderstorm with rain</th>\n",
       "      <th>holiday</th>\n",
       "    </tr>\n",
       "  </thead>\n",
       "  <tbody>\n",
       "    <tr>\n",
       "      <th>2012-10-01 13:00:00</th>\n",
       "      <td>133.0</td>\n",
       "      <td>68.0</td>\n",
       "      <td>287.170000</td>\n",
       "      <td>1014.0</td>\n",
       "      <td>3.0</td>\n",
       "      <td>60.0</td>\n",
       "      <td>0</td>\n",
       "      <td>0</td>\n",
       "      <td>0</td>\n",
       "      <td>0</td>\n",
       "      <td>...</td>\n",
       "      <td>0</td>\n",
       "      <td>0</td>\n",
       "      <td>0</td>\n",
       "      <td>1</td>\n",
       "      <td>0</td>\n",
       "      <td>0</td>\n",
       "      <td>0</td>\n",
       "      <td>0</td>\n",
       "      <td>0</td>\n",
       "      <td>0</td>\n",
       "    </tr>\n",
       "    <tr>\n",
       "      <th>2012-10-01 14:00:00</th>\n",
       "      <td>149.0</td>\n",
       "      <td>68.0</td>\n",
       "      <td>287.186092</td>\n",
       "      <td>1014.0</td>\n",
       "      <td>3.0</td>\n",
       "      <td>60.0</td>\n",
       "      <td>0</td>\n",
       "      <td>0</td>\n",
       "      <td>1</td>\n",
       "      <td>0</td>\n",
       "      <td>...</td>\n",
       "      <td>0</td>\n",
       "      <td>0</td>\n",
       "      <td>0</td>\n",
       "      <td>0</td>\n",
       "      <td>0</td>\n",
       "      <td>0</td>\n",
       "      <td>0</td>\n",
       "      <td>0</td>\n",
       "      <td>0</td>\n",
       "      <td>0</td>\n",
       "    </tr>\n",
       "    <tr>\n",
       "      <th>2012-10-01 15:00:00</th>\n",
       "      <td>136.0</td>\n",
       "      <td>68.0</td>\n",
       "      <td>287.231672</td>\n",
       "      <td>1014.0</td>\n",
       "      <td>3.0</td>\n",
       "      <td>60.0</td>\n",
       "      <td>0</td>\n",
       "      <td>0</td>\n",
       "      <td>1</td>\n",
       "      <td>0</td>\n",
       "      <td>...</td>\n",
       "      <td>0</td>\n",
       "      <td>0</td>\n",
       "      <td>0</td>\n",
       "      <td>0</td>\n",
       "      <td>0</td>\n",
       "      <td>0</td>\n",
       "      <td>0</td>\n",
       "      <td>0</td>\n",
       "      <td>0</td>\n",
       "      <td>0</td>\n",
       "    </tr>\n",
       "    <tr>\n",
       "      <th>2012-10-01 16:00:00</th>\n",
       "      <td>247.0</td>\n",
       "      <td>68.0</td>\n",
       "      <td>287.277251</td>\n",
       "      <td>1014.0</td>\n",
       "      <td>3.0</td>\n",
       "      <td>60.0</td>\n",
       "      <td>0</td>\n",
       "      <td>0</td>\n",
       "      <td>1</td>\n",
       "      <td>0</td>\n",
       "      <td>...</td>\n",
       "      <td>0</td>\n",
       "      <td>0</td>\n",
       "      <td>0</td>\n",
       "      <td>0</td>\n",
       "      <td>0</td>\n",
       "      <td>0</td>\n",
       "      <td>0</td>\n",
       "      <td>0</td>\n",
       "      <td>0</td>\n",
       "      <td>0</td>\n",
       "    </tr>\n",
       "    <tr>\n",
       "      <th>2012-10-01 17:00:00</th>\n",
       "      <td>428.0</td>\n",
       "      <td>68.0</td>\n",
       "      <td>287.322831</td>\n",
       "      <td>1014.0</td>\n",
       "      <td>3.0</td>\n",
       "      <td>61.0</td>\n",
       "      <td>0</td>\n",
       "      <td>0</td>\n",
       "      <td>1</td>\n",
       "      <td>0</td>\n",
       "      <td>...</td>\n",
       "      <td>0</td>\n",
       "      <td>0</td>\n",
       "      <td>0</td>\n",
       "      <td>0</td>\n",
       "      <td>0</td>\n",
       "      <td>0</td>\n",
       "      <td>0</td>\n",
       "      <td>0</td>\n",
       "      <td>0</td>\n",
       "      <td>0</td>\n",
       "    </tr>\n",
       "  </tbody>\n",
       "</table>\n",
       "<p>5 rows × 30 columns</p>\n",
       "</div>"
      ],
      "text/plain": [
       "                     trip_counts  humidity  temperature  pressure  wind_speed  \\\n",
       "2012-10-01 13:00:00        133.0      68.0   287.170000    1014.0         3.0   \n",
       "2012-10-01 14:00:00        149.0      68.0   287.186092    1014.0         3.0   \n",
       "2012-10-01 15:00:00        136.0      68.0   287.231672    1014.0         3.0   \n",
       "2012-10-01 16:00:00        247.0      68.0   287.277251    1014.0         3.0   \n",
       "2012-10-01 17:00:00        428.0      68.0   287.322831    1014.0         3.0   \n",
       "\n",
       "                     wind_direction  weather_description_broken clouds  \\\n",
       "2012-10-01 13:00:00            60.0                                  0   \n",
       "2012-10-01 14:00:00            60.0                                  0   \n",
       "2012-10-01 15:00:00            60.0                                  0   \n",
       "2012-10-01 16:00:00            60.0                                  0   \n",
       "2012-10-01 17:00:00            61.0                                  0   \n",
       "\n",
       "                     weather_description_drizzle  \\\n",
       "2012-10-01 13:00:00                            0   \n",
       "2012-10-01 14:00:00                            0   \n",
       "2012-10-01 15:00:00                            0   \n",
       "2012-10-01 16:00:00                            0   \n",
       "2012-10-01 17:00:00                            0   \n",
       "\n",
       "                     weather_description_few clouds  weather_description_fog  \\\n",
       "2012-10-01 13:00:00                               0                        0   \n",
       "2012-10-01 14:00:00                               1                        0   \n",
       "2012-10-01 15:00:00                               1                        0   \n",
       "2012-10-01 16:00:00                               1                        0   \n",
       "2012-10-01 17:00:00                               1                        0   \n",
       "\n",
       "                      ...     weather_description_overcast clouds  \\\n",
       "2012-10-01 13:00:00   ...                                       0   \n",
       "2012-10-01 14:00:00   ...                                       0   \n",
       "2012-10-01 15:00:00   ...                                       0   \n",
       "2012-10-01 16:00:00   ...                                       0   \n",
       "2012-10-01 17:00:00   ...                                       0   \n",
       "\n",
       "                     weather_description_proximity thunderstorm  \\\n",
       "2012-10-01 13:00:00                                           0   \n",
       "2012-10-01 14:00:00                                           0   \n",
       "2012-10-01 15:00:00                                           0   \n",
       "2012-10-01 16:00:00                                           0   \n",
       "2012-10-01 17:00:00                                           0   \n",
       "\n",
       "                     weather_description_scattered clouds  \\\n",
       "2012-10-01 13:00:00                                     0   \n",
       "2012-10-01 14:00:00                                     0   \n",
       "2012-10-01 15:00:00                                     0   \n",
       "2012-10-01 16:00:00                                     0   \n",
       "2012-10-01 17:00:00                                     0   \n",
       "\n",
       "                     weather_description_sky is clear  \\\n",
       "2012-10-01 13:00:00                                 1   \n",
       "2012-10-01 14:00:00                                 0   \n",
       "2012-10-01 15:00:00                                 0   \n",
       "2012-10-01 16:00:00                                 0   \n",
       "2012-10-01 17:00:00                                 0   \n",
       "\n",
       "                     weather_description_snow  weather_description_squalls  \\\n",
       "2012-10-01 13:00:00                         0                            0   \n",
       "2012-10-01 14:00:00                         0                            0   \n",
       "2012-10-01 15:00:00                         0                            0   \n",
       "2012-10-01 16:00:00                         0                            0   \n",
       "2012-10-01 17:00:00                         0                            0   \n",
       "\n",
       "                     weather_description_thunderstorm  \\\n",
       "2012-10-01 13:00:00                                 0   \n",
       "2012-10-01 14:00:00                                 0   \n",
       "2012-10-01 15:00:00                                 0   \n",
       "2012-10-01 16:00:00                                 0   \n",
       "2012-10-01 17:00:00                                 0   \n",
       "\n",
       "                     weather_description_thunderstorm with light rain  \\\n",
       "2012-10-01 13:00:00                                                 0   \n",
       "2012-10-01 14:00:00                                                 0   \n",
       "2012-10-01 15:00:00                                                 0   \n",
       "2012-10-01 16:00:00                                                 0   \n",
       "2012-10-01 17:00:00                                                 0   \n",
       "\n",
       "                     weather_description_thunderstorm with rain  holiday  \n",
       "2012-10-01 13:00:00                                           0        0  \n",
       "2012-10-01 14:00:00                                           0        0  \n",
       "2012-10-01 15:00:00                                           0        0  \n",
       "2012-10-01 16:00:00                                           0        0  \n",
       "2012-10-01 17:00:00                                           0        0  \n",
       "\n",
       "[5 rows x 30 columns]"
      ]
     },
     "execution_count": 41,
     "metadata": {},
     "output_type": "execute_result"
    }
   ],
   "source": [
    "hourly_weather_trips_holi_data.head()"
   ]
  },
  {
   "cell_type": "markdown",
   "metadata": {
    "extensions": {
     "jupyter_dashboards": {
      "version": 1,
      "views": {
       "grid_default": {},
       "report_default": {
        "hidden": false
       }
      }
     }
    }
   },
   "source": [
    "### Daily Trend"
   ]
  },
  {
   "cell_type": "code",
   "execution_count": 42,
   "metadata": {
    "extensions": {
     "jupyter_dashboards": {
      "version": 1,
      "views": {
       "grid_default": {},
       "report_default": {
        "hidden": true
       }
      }
     }
    }
   },
   "outputs": [],
   "source": [
    "weekday = pd.to_datetime(hourly_weather_trips_holi_data.index).weekday_name\n",
    "hourly_weather_trips_holi_data['weekday'] = weekday"
   ]
  },
  {
   "cell_type": "code",
   "execution_count": 43,
   "metadata": {
    "extensions": {
     "jupyter_dashboards": {
      "version": 1,
      "views": {
       "grid_default": {},
       "report_default": {
        "hidden": false
       }
      }
     }
    }
   },
   "outputs": [
    {
     "data": {
      "image/png": "[encoded data removed]",
      "text/plain": [
       "<Figure size 1152x360 with 1 Axes>"
      ]
     },
     "metadata": {
      "needs_background": "light"
     },
     "output_type": "display_data"
    }
   ],
   "source": [
    "fig, axes = plt.subplots()\n",
    "fig.set_size_inches(16, 5)\n",
    "\n",
    "sns.boxplot(data=hourly_weather_trips_holi_data,y=\"trip_counts\",x=\"weekday\",orient=\"v\",ax=axes)\n",
    "\n",
    "axes.set(xlabel='Weekday', ylabel='Count',title=\"Box Plot On Bike Rental in Weekday for All User\")\n",
    "\n",
    "plt.show()"
   ]
  },
  {
   "cell_type": "markdown",
   "metadata": {
    "extensions": {
     "jupyter_dashboards": {
      "version": 1,
      "views": {
       "grid_default": {},
       "report_default": {
        "hidden": false
       }
      }
     }
    }
   },
   "source": [
    "### Holiday Trend"
   ]
  },
  {
   "cell_type": "code",
   "execution_count": 44,
   "metadata": {
    "extensions": {
     "jupyter_dashboards": {
      "version": 1,
      "views": {
       "grid_default": {},
       "report_default": {
        "hidden": false
       }
      }
     }
    }
   },
   "outputs": [
    {
     "data": {
      "image/png": "[encoded data removed]",
      "text/plain": [
       "<Figure size 1152x360 with 1 Axes>"
      ]
     },
     "metadata": {
      "needs_background": "light"
     },
     "output_type": "display_data"
    }
   ],
   "source": [
    "fig, axes = plt.subplots()\n",
    "fig.set_size_inches(16, 5)\n",
    "\n",
    "sns.boxplot(data=hourly_weather_trips_holi_data,y=\"trip_counts\",x=\"holiday\",orient=\"v\",ax=axes)\n",
    "\n",
    "axes.set(xlabel='Holiday', ylabel='All Users',title=\"Box Plot On Bike Rental in holiday/workdays\")\n",
    "\n",
    "plt.show()"
   ]
  },
  {
   "cell_type": "markdown",
   "metadata": {
    "extensions": {
     "jupyter_dashboards": {
      "version": 1,
      "views": {
       "grid_default": {},
       "report_default": {
        "hidden": false
       }
      }
     }
    }
   },
   "source": [
    "### Random Forest Classifier"
   ]
  },
  {
   "cell_type": "code",
   "execution_count": 45,
   "metadata": {
    "extensions": {
     "jupyter_dashboards": {
      "version": 1,
      "views": {
       "grid_default": {},
       "report_default": {
        "hidden": true
       }
      }
     }
    }
   },
   "outputs": [],
   "source": [
    "labels_hourly = hourly_weather_trips_data['trip_counts'].values\n",
    "features_hourly = hourly_weather_trips_data.drop(columns=['trip_counts']).values"
   ]
  },
  {
   "cell_type": "code",
   "execution_count": 46,
   "metadata": {
    "extensions": {
     "jupyter_dashboards": {
      "version": 1,
      "views": {
       "grid_default": {},
       "report_default": {
        "hidden": false
       }
      }
     }
    }
   },
   "outputs": [
    {
     "name": "stderr",
     "output_type": "stream",
     "text": [
      "C:\\Users\\Jean Cassou-Mounat\\Anaconda2\\envs\\smob\\lib\\site-packages\\sklearn\\utils\\deprecation.py:58: DeprecationWarning:\n",
      "\n",
      "Class Imputer is deprecated; Imputer was deprecated in version 0.20 and will be removed in 0.22. Import impute.SimpleImputer from sklearn instead.\n",
      "\n"
     ]
    }
   ],
   "source": [
    "from sklearn.model_selection import train_test_split\n",
    "from sklearn.preprocessing import Imputer\n",
    "\n",
    "\n",
    "train_data, test_data, train_labels, test_labels = train_test_split(features_hourly, labels_hourly, random_state=45)\n",
    "\n",
    "imp = Imputer()\n",
    "imp.fit(train_data)\n",
    "train_data_finite = imp.transform(train_data)\n",
    "test_data_finite = imp.transform(test_data)"
   ]
  },
  {
   "cell_type": "code",
   "execution_count": 47,
   "metadata": {
    "extensions": {
     "jupyter_dashboards": {
      "version": 1,
      "views": {
       "grid_default": {},
       "report_default": {
        "hidden": false
       }
      }
     }
    }
   },
   "outputs": [
    {
     "data": {
      "text/plain": [
       "RandomForestClassifier(bootstrap=True, class_weight=None, criterion='gini',\n",
       "            max_depth=None, max_features='auto', max_leaf_nodes=None,\n",
       "            min_impurity_decrease=0.0, min_impurity_split=None,\n",
       "            min_samples_leaf=1, min_samples_split=2,\n",
       "            min_weight_fraction_leaf=0.0, n_estimators=10, n_jobs=None,\n",
       "            oob_score=False, random_state=None, verbose=0,\n",
       "            warm_start=False)"
      ]
     },
     "execution_count": 47,
     "metadata": {},
     "output_type": "execute_result"
    }
   ],
   "source": [
    "from sklearn.ensemble import RandomForestClassifier\n",
    "classifier = RandomForestClassifier()\n",
    "classifier.fit(train_data, train_labels)"
   ]
  },
  {
   "cell_type": "code",
   "execution_count": 48,
   "metadata": {
    "extensions": {
     "jupyter_dashboards": {
      "version": 1,
      "views": {
       "grid_default": {},
       "report_default": {
        "hidden": true
       }
      }
     }
    }
   },
   "outputs": [],
   "source": [
    "y_prediction = classifier.predict(test_data)"
   ]
  },
  {
   "cell_type": "code",
   "execution_count": 49,
   "metadata": {
    "extensions": {
     "jupyter_dashboards": {
      "version": 1,
      "views": {
       "grid_default": {},
       "report_default": {
        "hidden": false
       }
      }
     }
    }
   },
   "outputs": [
    {
     "data": {
      "text/plain": [
       "0.973604826546003"
      ]
     },
     "execution_count": 49,
     "metadata": {},
     "output_type": "execute_result"
    }
   ],
   "source": [
    "classifier.score(train_data, train_labels)"
   ]
  },
  {
   "cell_type": "code",
   "execution_count": 50,
   "metadata": {
    "extensions": {
     "jupyter_dashboards": {
      "version": 1,
      "views": {
       "grid_default": {},
       "report_default": {
        "hidden": false
       }
      }
     }
    }
   },
   "outputs": [
    {
     "data": {
      "text/plain": [
       "104.85132843414358"
      ]
     },
     "execution_count": 50,
     "metadata": {},
     "output_type": "execute_result"
    }
   ],
   "source": [
    "from sklearn.metrics import mean_absolute_error\n",
    "mean_absolute_error(test_labels, y_prediction)"
   ]
  },
  {
   "cell_type": "code",
   "execution_count": 51,
   "metadata": {
    "extensions": {
     "jupyter_dashboards": {
      "version": 1,
      "views": {
       "grid_default": {},
       "report_default": {
        "hidden": true
       }
      }
     }
    }
   },
   "outputs": [],
   "source": [
    "y_prediction_extract = y_prediction[0:100]\n",
    "test_labels_extract = test_labels[0:100]"
   ]
  },
  {
   "cell_type": "code",
   "execution_count": 53,
   "metadata": {
    "extensions": {
     "jupyter_dashboards": {
      "version": 1,
      "views": {
       "grid_default": {},
       "report_default": {
        "hidden": false
       }
      }
     }
    }
   },
   "outputs": [
    {
     "data": {
      "text/html": [
       "<script type=\"text/javascript\">window.PlotlyConfig = {MathJaxConfig: 'local'};</script><script type=\"text/javascript\">if (window.MathJax) {MathJax.Hub.Config({SVG: {font: \"STIX-Web\"}});}</script><script>requirejs.config({paths: { 'plotly': ['https://cdn.plot.ly/plotly-latest.min']},});if(!window._Plotly) {require(['plotly'],function(plotly) {window._Plotly=plotly;});}</script>"
      ],
      "text/vnd.plotly.v1+html": [
       "<script type=\"text/javascript\">window.PlotlyConfig = {MathJaxConfig: 'local'};</script><script type=\"text/javascript\">if (window.MathJax) {MathJax.Hub.Config({SVG: {font: \"STIX-Web\"}});}</script><script>requirejs.config({paths: { 'plotly': ['https://cdn.plot.ly/plotly-latest.min']},});if(!window._Plotly) {require(['plotly'],function(plotly) {window._Plotly=plotly;});}</script>"
      ]
     },
     "metadata": {},
     "output_type": "display_data"
    },
    {
     "data": {
      "application/vnd.plotly.v1+json": {
       "config": {
        "linkText": "Export to plot.ly",
        "plotlyServerURL": "https://plot.ly",
        "showLink": false
       },
       "data": [
        {
         "type": "scatter",
         "uid": "d22600fa-4c81-4db5-b65c-10d0ba6c2d4f",
         "x": [
          0,
          1,
          2,
          3,
          4,
          5,
          6,
          7,
          8,
          9,
          10,
          11,
          12,
          13,
          14,
          15,
          16,
          17,
          18,
          19,
          20,
          21,
          22,
          23,
          24,
          25,
          26,
          27,
          28,
          29,
          30,
          31,
          32,
          33,
          34,
          35,
          36,
          37,
          38,
          39,
          40,
          41,
          42,
          43,
          44,
          45,
          46,
          47,
          48,
          49,
          50,
          51,
          52,
          53,
          54,
          55,
          56,
          57,
          58,
          59,
          60,
          61,
          62,
          63,
          64,
          65,
          66,
          67,
          68,
          69,
          70,
          71,
          72,
          73,
          74,
          75,
          76,
          77,
          78,
          79,
          80,
          81,
          82,
          83,
          84,
          85,
          86,
          87,
          88,
          89,
          90,
          91,
          92,
          93,
          94,
          95,
          96,
          97,
          98,
          99
         ],
         "y": [
          6,
          31,
          150,
          21,
          82,
          174,
          131,
          272,
          190,
          141,
          129,
          51,
          343,
          1,
          17,
          119,
          168,
          17,
          345,
          207,
          60,
          157,
          513,
          205,
          347,
          112,
          2,
          303,
          36,
          13,
          56,
          221,
          30,
          3,
          57,
          7,
          5,
          237,
          92,
          162,
          145,
          95,
          93,
          172,
          152,
          43,
          16,
          36,
          450,
          114,
          139,
          75,
          71,
          264,
          204,
          14,
          129,
          67,
          488,
          86,
          21,
          27,
          7,
          28,
          269,
          23,
          138,
          13,
          213,
          25,
          17,
          2,
          113,
          3,
          496,
          1,
          348,
          4,
          248,
          2,
          666,
          9,
          33,
          157,
          235,
          8,
          217,
          47,
          58,
          6,
          53,
          198,
          49,
          279,
          279,
          35,
          13,
          17,
          282,
          170
         ]
        },
        {
         "type": "scatter",
         "uid": "05ae9dd7-d4bd-404c-93b6-2a842f427092",
         "x": [
          0,
          1,
          2,
          3,
          4,
          5,
          6,
          7,
          8,
          9,
          10,
          11,
          12,
          13,
          14,
          15,
          16,
          17,
          18,
          19,
          20,
          21,
          22,
          23,
          24,
          25,
          26,
          27,
          28,
          29,
          30,
          31,
          32,
          33,
          34,
          35,
          36,
          37,
          38,
          39,
          40,
          41,
          42,
          43,
          44,
          45,
          46,
          47,
          48,
          49,
          50,
          51,
          52,
          53,
          54,
          55,
          56,
          57,
          58,
          59,
          60,
          61,
          62,
          63,
          64,
          65,
          66,
          67,
          68,
          69,
          70,
          71,
          72,
          73,
          74,
          75,
          76,
          77,
          78,
          79,
          80,
          81,
          82,
          83,
          84,
          85,
          86,
          87,
          88,
          89,
          90,
          91,
          92,
          93,
          94,
          95,
          96,
          97,
          98,
          99
         ],
         "y": [
          55,
          3,
          426,
          2,
          84,
          149,
          19,
          2,
          205,
          1,
          18,
          38,
          216,
          2,
          106,
          71,
          1,
          164,
          186,
          442,
          29,
          185,
          313,
          292,
          27,
          26,
          1,
          211,
          23,
          223,
          202,
          162,
          49,
          8,
          92,
          5,
          1,
          173,
          80,
          82,
          176,
          3,
          138,
          148,
          3,
          53,
          30,
          140,
          220,
          2,
          8,
          42,
          13,
          381,
          62,
          4,
          452,
          7,
          230,
          136,
          9,
          26,
          3,
          4,
          226,
          189,
          18,
          55,
          238,
          444,
          63,
          176,
          23,
          2,
          162,
          17,
          111,
          32,
          245,
          165,
          33,
          21,
          22,
          21,
          4,
          11,
          544,
          16,
          25,
          39,
          89,
          22,
          6,
          292,
          152,
          21,
          72,
          217,
          27,
          115
         ]
        }
       ],
       "layout": {}
      },
      "text/html": [
       "<div id=\"3c716a2c-7e71-4bfe-bfc8-3608df22d4cb\" style=\"height: 525px; width: 100%;\" class=\"plotly-graph-div\"></div><script type=\"text/javascript\">require([\"plotly\"], function(Plotly) { window.PLOTLYENV=window.PLOTLYENV || {};window.PLOTLYENV.BASE_URL=\"https://plot.ly\";Plotly.newPlot(\"3c716a2c-7e71-4bfe-bfc8-3608df22d4cb\", [{\"x\": [0, 1, 2, 3, 4, 5, 6, 7, 8, 9, 10, 11, 12, 13, 14, 15, 16, 17, 18, 19, 20, 21, 22, 23, 24, 25, 26, 27, 28, 29, 30, 31, 32, 33, 34, 35, 36, 37, 38, 39, 40, 41, 42, 43, 44, 45, 46, 47, 48, 49, 50, 51, 52, 53, 54, 55, 56, 57, 58, 59, 60, 61, 62, 63, 64, 65, 66, 67, 68, 69, 70, 71, 72, 73, 74, 75, 76, 77, 78, 79, 80, 81, 82, 83, 84, 85, 86, 87, 88, 89, 90, 91, 92, 93, 94, 95, 96, 97, 98, 99], \"y\": [6.0, 31.0, 150.0, 21.0, 82.0, 174.0, 131.0, 272.0, 190.0, 141.0, 129.0, 51.0, 343.0, 1.0, 17.0, 119.0, 168.0, 17.0, 345.0, 207.0, 60.0, 157.0, 513.0, 205.0, 347.0, 112.0, 2.0, 303.0, 36.0, 13.0, 56.0, 221.0, 30.0, 3.0, 57.0, 7.0, 5.0, 237.0, 92.0, 162.0, 145.0, 95.0, 93.0, 172.0, 152.0, 43.0, 16.0, 36.0, 450.0, 114.0, 139.0, 75.0, 71.0, 264.0, 204.0, 14.0, 129.0, 67.0, 488.0, 86.0, 21.0, 27.0, 7.0, 28.0, 269.0, 23.0, 138.0, 13.0, 213.0, 25.0, 17.0, 2.0, 113.0, 3.0, 496.0, 1.0, 348.0, 4.0, 248.0, 2.0, 666.0, 9.0, 33.0, 157.0, 235.0, 8.0, 217.0, 47.0, 58.0, 6.0, 53.0, 198.0, 49.0, 279.0, 279.0, 35.0, 13.0, 17.0, 282.0, 170.0], \"type\": \"scatter\", \"uid\": \"cf49fd05-fe00-46fa-8551-bd0543c1865b\"}, {\"x\": [0, 1, 2, 3, 4, 5, 6, 7, 8, 9, 10, 11, 12, 13, 14, 15, 16, 17, 18, 19, 20, 21, 22, 23, 24, 25, 26, 27, 28, 29, 30, 31, 32, 33, 34, 35, 36, 37, 38, 39, 40, 41, 42, 43, 44, 45, 46, 47, 48, 49, 50, 51, 52, 53, 54, 55, 56, 57, 58, 59, 60, 61, 62, 63, 64, 65, 66, 67, 68, 69, 70, 71, 72, 73, 74, 75, 76, 77, 78, 79, 80, 81, 82, 83, 84, 85, 86, 87, 88, 89, 90, 91, 92, 93, 94, 95, 96, 97, 98, 99], \"y\": [55.0, 3.0, 426.0, 2.0, 84.0, 149.0, 19.0, 2.0, 205.0, 1.0, 18.0, 38.0, 216.0, 2.0, 106.0, 71.0, 1.0, 164.0, 186.0, 442.0, 29.0, 185.0, 313.0, 292.0, 27.0, 26.0, 1.0, 211.0, 23.0, 223.0, 202.0, 162.0, 49.0, 8.0, 92.0, 5.0, 1.0, 173.0, 80.0, 82.0, 176.0, 3.0, 138.0, 148.0, 3.0, 53.0, 30.0, 140.0, 220.0, 2.0, 8.0, 42.0, 13.0, 381.0, 62.0, 4.0, 452.0, 7.0, 230.0, 136.0, 9.0, 26.0, 3.0, 4.0, 226.0, 189.0, 18.0, 55.0, 238.0, 444.0, 63.0, 176.0, 23.0, 2.0, 162.0, 17.0, 111.0, 32.0, 245.0, 165.0, 33.0, 21.0, 22.0, 21.0, 4.0, 11.0, 544.0, 16.0, 25.0, 39.0, 89.0, 22.0, 6.0, 292.0, 152.0, 21.0, 72.0, 217.0, 27.0, 115.0], \"type\": \"scatter\", \"uid\": \"5f2316bb-e17b-481a-9cdf-2aa3e895c084\"}], {}, {\"showLink\": false, \"linkText\": \"Export to plot.ly\", \"plotlyServerURL\": \"https://plot.ly\"})});</script><script type=\"text/javascript\">window.addEventListener(\"resize\", function(){window._Plotly.Plots.resize(document.getElementById(\"3c716a2c-7e71-4bfe-bfc8-3608df22d4cb\"));});</script>"
      ],
      "text/vnd.plotly.v1+html": [
       "<div id=\"3c716a2c-7e71-4bfe-bfc8-3608df22d4cb\" style=\"height: 525px; width: 100%;\" class=\"plotly-graph-div\"></div><script type=\"text/javascript\">require([\"plotly\"], function(Plotly) { window.PLOTLYENV=window.PLOTLYENV || {};window.PLOTLYENV.BASE_URL=\"https://plot.ly\";Plotly.newPlot(\"3c716a2c-7e71-4bfe-bfc8-3608df22d4cb\", [{\"x\": [0, 1, 2, 3, 4, 5, 6, 7, 8, 9, 10, 11, 12, 13, 14, 15, 16, 17, 18, 19, 20, 21, 22, 23, 24, 25, 26, 27, 28, 29, 30, 31, 32, 33, 34, 35, 36, 37, 38, 39, 40, 41, 42, 43, 44, 45, 46, 47, 48, 49, 50, 51, 52, 53, 54, 55, 56, 57, 58, 59, 60, 61, 62, 63, 64, 65, 66, 67, 68, 69, 70, 71, 72, 73, 74, 75, 76, 77, 78, 79, 80, 81, 82, 83, 84, 85, 86, 87, 88, 89, 90, 91, 92, 93, 94, 95, 96, 97, 98, 99], \"y\": [6.0, 31.0, 150.0, 21.0, 82.0, 174.0, 131.0, 272.0, 190.0, 141.0, 129.0, 51.0, 343.0, 1.0, 17.0, 119.0, 168.0, 17.0, 345.0, 207.0, 60.0, 157.0, 513.0, 205.0, 347.0, 112.0, 2.0, 303.0, 36.0, 13.0, 56.0, 221.0, 30.0, 3.0, 57.0, 7.0, 5.0, 237.0, 92.0, 162.0, 145.0, 95.0, 93.0, 172.0, 152.0, 43.0, 16.0, 36.0, 450.0, 114.0, 139.0, 75.0, 71.0, 264.0, 204.0, 14.0, 129.0, 67.0, 488.0, 86.0, 21.0, 27.0, 7.0, 28.0, 269.0, 23.0, 138.0, 13.0, 213.0, 25.0, 17.0, 2.0, 113.0, 3.0, 496.0, 1.0, 348.0, 4.0, 248.0, 2.0, 666.0, 9.0, 33.0, 157.0, 235.0, 8.0, 217.0, 47.0, 58.0, 6.0, 53.0, 198.0, 49.0, 279.0, 279.0, 35.0, 13.0, 17.0, 282.0, 170.0], \"type\": \"scatter\", \"uid\": \"cf49fd05-fe00-46fa-8551-bd0543c1865b\"}, {\"x\": [0, 1, 2, 3, 4, 5, 6, 7, 8, 9, 10, 11, 12, 13, 14, 15, 16, 17, 18, 19, 20, 21, 22, 23, 24, 25, 26, 27, 28, 29, 30, 31, 32, 33, 34, 35, 36, 37, 38, 39, 40, 41, 42, 43, 44, 45, 46, 47, 48, 49, 50, 51, 52, 53, 54, 55, 56, 57, 58, 59, 60, 61, 62, 63, 64, 65, 66, 67, 68, 69, 70, 71, 72, 73, 74, 75, 76, 77, 78, 79, 80, 81, 82, 83, 84, 85, 86, 87, 88, 89, 90, 91, 92, 93, 94, 95, 96, 97, 98, 99], \"y\": [55.0, 3.0, 426.0, 2.0, 84.0, 149.0, 19.0, 2.0, 205.0, 1.0, 18.0, 38.0, 216.0, 2.0, 106.0, 71.0, 1.0, 164.0, 186.0, 442.0, 29.0, 185.0, 313.0, 292.0, 27.0, 26.0, 1.0, 211.0, 23.0, 223.0, 202.0, 162.0, 49.0, 8.0, 92.0, 5.0, 1.0, 173.0, 80.0, 82.0, 176.0, 3.0, 138.0, 148.0, 3.0, 53.0, 30.0, 140.0, 220.0, 2.0, 8.0, 42.0, 13.0, 381.0, 62.0, 4.0, 452.0, 7.0, 230.0, 136.0, 9.0, 26.0, 3.0, 4.0, 226.0, 189.0, 18.0, 55.0, 238.0, 444.0, 63.0, 176.0, 23.0, 2.0, 162.0, 17.0, 111.0, 32.0, 245.0, 165.0, 33.0, 21.0, 22.0, 21.0, 4.0, 11.0, 544.0, 16.0, 25.0, 39.0, 89.0, 22.0, 6.0, 292.0, 152.0, 21.0, 72.0, 217.0, 27.0, 115.0], \"type\": \"scatter\", \"uid\": \"5f2316bb-e17b-481a-9cdf-2aa3e895c084\"}], {}, {\"showLink\": false, \"linkText\": \"Export to plot.ly\", \"plotlyServerURL\": \"https://plot.ly\"})});</script><script type=\"text/javascript\">window.addEventListener(\"resize\", function(){window._Plotly.Plots.resize(document.getElementById(\"3c716a2c-7e71-4bfe-bfc8-3608df22d4cb\"));});</script>"
      ]
     },
     "metadata": {},
     "output_type": "display_data"
    }
   ],
   "source": [
    "import plotly.offline as py\n",
    "import plotly.graph_objs as go\n",
    "\n",
    "py.init_notebook_mode(connected=True)\n",
    "\n",
    "range_x = np.arange(len(y_prediction_extract))\n",
    "\n",
    "# Create a trace\n",
    "trace0 = go.Scatter(\n",
    "    x = range_x,\n",
    "    y = test_labels_extract\n",
    ")\n",
    "\n",
    "trace1 = go.Scatter(\n",
    "    x = range_x,\n",
    "    y = y_prediction_extract\n",
    ")\n",
    "\n",
    "data = [trace0, trace1]\n",
    "\n",
    "py.iplot(data, filename='basic-line')"
   ]
  },
  {
   "cell_type": "code",
   "execution_count": null,
   "metadata": {
    "extensions": {
     "jupyter_dashboards": {
      "version": 1,
      "views": {
       "grid_default": {},
       "report_default": {
        "hidden": true
       }
      }
     }
    }
   },
   "outputs": [],
   "source": []
  }
 ],
 "metadata": {
  "extensions": {
   "jupyter_dashboards": {
    "activeView": "report_default",
    "version": 1,
    "views": {
     "grid_default": {
      "name": "grid",
      "type": "grid"
     },
     "report_default": {
      "name": "report",
      "type": "report"
     }
    }
   }
  },
  "kernelspec": {
   "display_name": "Python 3",
   "language": "python",
   "name": "python3"
  },
  "language_info": {
   "codemirror_mode": {
    "name": "ipython",
    "version": 3
   },
   "file_extension": ".py",
   "mimetype": "text/x-python",
   "name": "python",
   "nbconvert_exporter": "python",
   "pygments_lexer": "ipython3",
   "version": "3.7.1"
  }
 },
 "nbformat": 4,
 "nbformat_minor": 2
}
